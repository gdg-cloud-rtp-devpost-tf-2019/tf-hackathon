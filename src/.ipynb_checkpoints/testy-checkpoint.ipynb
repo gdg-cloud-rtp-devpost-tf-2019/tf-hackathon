{
 "cells": [
  {
   "cell_type": "markdown",
   "metadata": {},
   "source": [
    "# convert station id coordinates from NAD83 to WGS84"
   ]
  },
  {
   "cell_type": "code",
   "execution_count": 4,
   "metadata": {},
   "outputs": [],
   "source": [
    "import ogr, osr\n",
    "# Find codes in this file ~/anaconda3/envs/tf2/share/gdal/pcs.csv\n",
    "# \n",
    "# Using google\n",
    "# WGS 84 is defined under EPSG code 4326.\n",
    "# WGS84 EPSG 32618  http://www.spatialreference.org/ref/epsg/wgs-84-utm-zone-18n/\n",
    "\n",
    "# NAD83 - EPSG:4269 - EPSG.io  possibly wrong\n",
    "# NAD83  32147 http://spatialreference.org/ref/epsg/32147/\n",
    "\n",
    "##################3\n",
    "# Using the pcs.csv file\n",
    "\n",
    "# source geogcrs code\n",
    "# 4269    NAD83 lots of these\n",
    "# 4326    WGS 84 lots of these\n"
   ]
  },
  {
   "cell_type": "code",
   "execution_count": 5,
   "metadata": {},
   "outputs": [],
   "source": [
    "# Spatial Reference System\n",
    "#\n",
    "# fail\n",
    "#inputEPSG = 32147 # NAD83\n",
    "#outputEPSG = 32618 # WGS84\n",
    "# fail but close\n",
    "#inputEPSG = 4269 # NAD83\n",
    "#outputEPSG = 4326 # WGS84\n",
    "# fail\n",
    "inputEPSG = 4269 # NAD83\n",
    "outputEPSG = 4326 # WGS84\n",
    "#"
   ]
  },
  {
   "cell_type": "code",
   "execution_count": 6,
   "metadata": {},
   "outputs": [
    {
     "name": "stdout",
     "output_type": "stream",
     "text": [
      "36.01313888888889 -75.00066666666666\n"
     ]
    }
   ],
   "source": [
    "# Site Number: 0204300267\n",
    "# Site Name: BEGGARS BRIDGE CREEK NEAR DAWLEY CORNERS, VA\n",
    "# Site Type: Stream\n",
    "# Agency: USGS\n",
    "# Latitude 36°40'47.3\",   Longitude 75°59'02.4\"   NAD83\n",
    "# Virginia Beach City, Virginia, Hydrologic Unit 03010205\n",
    "# Datum of gage: 0.00 feet above   NAVD88.\n",
    "\n",
    "degrees = 36\n",
    "minutes = 40.0\n",
    "seconds = 47.3\n",
    "\n",
    "# use floor division for minutes\n",
    "pointX = degrees + minutes//60.0 + seconds/3600.0 \n",
    "\n",
    "degrees = 75\n",
    "minutes = 59.0\n",
    "seconds = 02.4\n",
    "\n",
    "# use floor division for minutes\n",
    "pointY = degrees + minutes//60.0 + seconds/3600.0 \n",
    "\n",
    "# since the number should be negative\n",
    "pointY = -pointY\n",
    "\n",
    "print(pointX, pointY)"
   ]
  },
  {
   "cell_type": "code",
   "execution_count": 7,
   "metadata": {},
   "outputs": [
    {
     "name": "stdout",
     "output_type": "stream",
     "text": [
      "36.01313888888889 -75.00066666666666\n"
     ]
    }
   ],
   "source": [
    "# create a geometry from coordinates\n",
    "point = ogr.Geometry(ogr.wkbPoint)\n",
    "point.AddPoint(pointX, pointY)\n",
    "\n",
    "# create coordinate transformation\n",
    "inSpatialRef = osr.SpatialReference()\n",
    "inSpatialRef.ImportFromEPSG(inputEPSG)\n",
    "\n",
    "outSpatialRef = osr.SpatialReference()\n",
    "outSpatialRef.ImportFromEPSG(outputEPSG)\n",
    "\n",
    "coordTransform = osr.CoordinateTransformation(inSpatialRef, outSpatialRef)\n",
    "\n",
    "# transform point\n",
    "point.Transform(coordTransform)\n",
    "\n",
    "\n",
    "print(point.GetX(), point.GetY())\n",
    "\n",
    "# a correct answer will be something like\n",
    "# 36.680784, -76.003623"
   ]
  },
  {
   "cell_type": "code",
   "execution_count": 8,
   "metadata": {},
   "outputs": [],
   "source": [
    "# fwiw, here is a guy using geopandas to convert data to NAD83 and he uses 4269\n",
    "# https://stackoverflow.com/questions/41820969/python-geo-spatial-coordinate-format-conversion"
   ]
  },
  {
   "cell_type": "code",
   "execution_count": 10,
   "metadata": {},
   "outputs": [
    {
     "name": "stdout",
     "output_type": "stream",
     "text": [
      "(36.01313888888889, -75.00066666666666, 0.0)\n"
     ]
    }
   ],
   "source": [
    "# another variant.  Essentially the same.\n",
    "from osgeo import osr\n",
    "inp= osr.SpatialReference()\n",
    "inp.ImportFromEPSG(4269)\n",
    "out= osr.SpatialReference()\n",
    "out.ImportFromEPSG(4326)\n",
    "transformation = osr.CoordinateTransformation(inp,out)\n",
    "print(transformation.TransformPoint(pointX,pointY))\n",
    "#(-74.27000000011289, 40.46999999990432, 0.0)"
   ]
  },
  {
   "cell_type": "code",
   "execution_count": null,
   "metadata": {},
   "outputs": [],
   "source": []
  }
 ],
 "metadata": {
  "kernelspec": {
   "display_name": "Python 3",
   "language": "python",
   "name": "python3"
  },
  "language_info": {
   "codemirror_mode": {
    "name": "ipython",
    "version": 3
   },
   "file_extension": ".py",
   "mimetype": "text/x-python",
   "name": "python",
   "nbconvert_exporter": "python",
   "pygments_lexer": "ipython3",
   "version": "3.7.2"
  }
 },
 "nbformat": 4,
 "nbformat_minor": 2
}
