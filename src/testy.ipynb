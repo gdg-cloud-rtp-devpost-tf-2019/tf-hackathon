{
 "cells": [
  {
   "cell_type": "markdown",
   "metadata": {},
   "source": [
    "# convert station id coordinates from NAD83 to WGS84"
   ]
  },
  {
   "cell_type": "code",
   "execution_count": 8,
   "metadata": {},
   "outputs": [],
   "source": [
    "import ogr, osr\n",
    "import gmaps\n",
    "import gmaps.datasets\n",
    "import os\n",
    "# Find codes in this file ~/anaconda3/envs/tf2/share/gdal/pcs.csv\n",
    "# \n",
    "# Using google\n",
    "# WGS 84 is defined under EPSG code 4326.\n",
    "# WGS84 EPSG 32618  http://www.spatialreference.org/ref/epsg/wgs-84-utm-zone-18n/\n",
    "\n",
    "# NAD83 - EPSG:4269 - EPSG.io  possibly wrong\n",
    "# NAD83  32147 http://spatialreference.org/ref/epsg/32147/\n",
    "\n",
    "##################3\n",
    "# Using the pcs.csv file\n",
    "\n",
    "# source geogcrs code\n",
    "# 4269    NAD83 lots of these\n",
    "# 4326    WGS 84 lots of these\n"
   ]
  },
  {
   "cell_type": "code",
   "execution_count": 2,
   "metadata": {},
   "outputs": [],
   "source": [
    "# Spatial Reference System\n",
    "#\n",
    "# fail\n",
    "#inputEPSG = 32147 # NAD83\n",
    "#outputEPSG = 32618 # WGS84\n",
    "# fail but close\n",
    "#inputEPSG = 4269 # NAD83\n",
    "#outputEPSG = 4326 # WGS84\n",
    "# fail\n",
    "inputEPSG = 4269 # NAD83\n",
    "outputEPSG = 4326 # WGS84\n",
    "#"
   ]
  },
  {
   "cell_type": "code",
   "execution_count": 3,
   "metadata": {},
   "outputs": [
    {
     "name": "stdout",
     "output_type": "stream",
     "text": [
      "36.679805555555554 -75.984\n",
      "using floor 36.01313888888889, 75.00066666666666\n"
     ]
    }
   ],
   "source": [
    "# Site Number: 0204300267\n",
    "# Site Name: BEGGARS BRIDGE CREEK NEAR DAWLEY CORNERS, VA\n",
    "# Site Type: Stream\n",
    "# Agency: USGS\n",
    "# Latitude 36°40'47.3\",   Longitude 75°59'02.4\"   NAD83\n",
    "# Virginia Beach City, Virginia, Hydrologic Unit 03010205\n",
    "# Datum of gage: 0.00 feet above   NAVD88.\n",
    "\n",
    "degrees = 36\n",
    "minutes = 40.0\n",
    "seconds = 47.3\n",
    "\n",
    "# According to wikipedia I should \n",
    "# use floor division for minutes\n",
    "pointX_floor = degrees + minutes//60.0 + seconds/3600.0 \n",
    "\n",
    "# According to Tuthill, don't do this\n",
    "pointX = degrees + minutes/60.0 + seconds/3600.0 \n",
    "\n",
    "\n",
    "degrees = 75\n",
    "minutes = 59.0\n",
    "seconds = 02.4\n",
    "\n",
    "# According to wikipedia I should \n",
    "# use floor division for minutes\n",
    "pointY_floor = degrees + minutes//60.0 + seconds/3600.0 \n",
    "\n",
    "# According to Tuthill, don't do this\n",
    "pointY = degrees + minutes/60.0 + seconds/3600.0 \n",
    "\n",
    "# since the number should be negative\n",
    "pointY = -pointY\n",
    "\n",
    "print(pointX, pointY)\n",
    "print(\"using floor {}, {}\".format(pointX_floor, pointY_floor))\n",
    "\n",
    "# The non use of floor seems to work.  Also its good enough that\n",
    "# the change is coordinate systems seems to not be required."
   ]
  },
  {
   "cell_type": "code",
   "execution_count": 4,
   "metadata": {},
   "outputs": [
    {
     "name": "stdout",
     "output_type": "stream",
     "text": [
      "36.679805555555554 -75.984\n"
     ]
    }
   ],
   "source": [
    "# create a geometry from coordinates\n",
    "point = ogr.Geometry(ogr.wkbPoint)\n",
    "point.AddPoint(pointX, pointY)\n",
    "\n",
    "# create coordinate transformation\n",
    "inSpatialRef = osr.SpatialReference()\n",
    "inSpatialRef.ImportFromEPSG(inputEPSG)\n",
    "\n",
    "outSpatialRef = osr.SpatialReference()\n",
    "outSpatialRef.ImportFromEPSG(outputEPSG)\n",
    "\n",
    "coordTransform = osr.CoordinateTransformation(inSpatialRef, outSpatialRef)\n",
    "\n",
    "# transform point\n",
    "point.Transform(coordTransform)\n",
    "\n",
    "\n",
    "print(point.GetX(), point.GetY())\n",
    "\n",
    "# a correct answer will be something like\n",
    "# 36.680784, -76.003623"
   ]
  },
  {
   "cell_type": "code",
   "execution_count": 5,
   "metadata": {},
   "outputs": [],
   "source": [
    "# fwiw, here is a guy using geopandas to convert data to NAD83 and he uses 4269\n",
    "# https://stackoverflow.com/questions/41820969/python-geo-spatial-coordinate-format-conversion"
   ]
  },
  {
   "cell_type": "code",
   "execution_count": 6,
   "metadata": {},
   "outputs": [
    {
     "name": "stdout",
     "output_type": "stream",
     "text": [
      "(36.679805555555554, -75.984, 0.0)\n"
     ]
    }
   ],
   "source": [
    "# another variant.  Essentially the same.\n",
    "from osgeo import osr\n",
    "inp= osr.SpatialReference()\n",
    "inp.ImportFromEPSG(inputEPSG)\n",
    "out= osr.SpatialReference()\n",
    "out.ImportFromEPSG(outputEPSG)\n",
    "transformation = osr.CoordinateTransformation(inp,out)\n",
    "print(transformation.TransformPoint(pointX,pointY))\n",
    "#(-74.27000000011289, 40.46999999990432, 0.0)"
   ]
  },
  {
   "cell_type": "code",
   "execution_count": 7,
   "metadata": {},
   "outputs": [],
   "source": [
    "gmaps.configure(api_key=os.environ[\"GOOGLE_MAPS_API_KEY\"])"
   ]
  },
  {
   "cell_type": "code",
   "execution_count": 16,
   "metadata": {},
   "outputs": [
    {
     "data": {
      "application/vnd.jupyter.widget-view+json": {
       "model_id": "052c8c2927374219928073dd0dc77508",
       "version_major": 2,
       "version_minor": 0
      },
      "text/plain": [
       "Figure(layout=FigureLayout(height='420px'))"
      ]
     },
     "metadata": {},
     "output_type": "display_data"
    }
   ],
   "source": [
    "fig = gmaps.figure()\n",
    "# print the two locations, correct without floor and incorrect with floor\n",
    "locations = [(36.679805555555554, -75.984), (36.01313888888889, -75.00066666666666)]\n",
    "fig = gmaps.figure(center=(36.0, -75.0), zoom_level=8)\n",
    "fig = gmaps.figure(layout={\n",
    "        'width': '400px',\n",
    "        'height': '600px',\n",
    "        'padding': '3px',\n",
    "        'border': '1px solid black'\n",
    "})\n",
    "# give ablitly to turn on satelite\n",
    "fig = gmaps.figure(map_type='HYBRID')\n",
    "\n",
    "# show stations as green dots\n",
    "stations_layer = gmaps.symbol_layer(\n",
    "    locations, fill_color=\"green\", stroke_color=\"green\", scale=2\n",
    ")\n",
    "fig = gmaps.figure()\n",
    "fig.add_layer(stations_layer)\n",
    "\n",
    "fig"
   ]
  },
  {
   "cell_type": "code",
   "execution_count": null,
   "metadata": {},
   "outputs": [],
   "source": []
  }
 ],
 "metadata": {
  "kernelspec": {
   "display_name": "Python 3",
   "language": "python",
   "name": "python3"
  },
  "language_info": {
   "codemirror_mode": {
    "name": "ipython",
    "version": 3
   },
   "file_extension": ".py",
   "mimetype": "text/x-python",
   "name": "python",
   "nbconvert_exporter": "python",
   "pygments_lexer": "ipython3",
   "version": "3.7.2"
  }
 },
 "nbformat": 4,
 "nbformat_minor": 2
}
