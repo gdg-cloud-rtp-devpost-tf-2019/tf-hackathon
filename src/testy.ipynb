{
 "cells": [
  {
   "cell_type": "markdown",
   "metadata": {},
   "source": [
    "# convert station id coordinates from NAD83 to WGS84"
   ]
  },
  {
   "cell_type": "code",
   "execution_count": 9,
   "metadata": {},
   "outputs": [],
   "source": [
    "import ogr, osr\n",
    "import gmaps\n",
    "import gmaps.datasets\n",
    "import os\n",
    "# Find codes in this file ~/anaconda3/envs/tf2/share/gdal/pcs.csv\n",
    "# \n",
    "# Using google\n",
    "# WGS 84 is defined under EPSG code 4326.\n",
    "# WGS84 EPSG 32618  http://www.spatialreference.org/ref/epsg/wgs-84-utm-zone-18n/\n",
    "\n",
    "# NAD83 - EPSG:4269 - EPSG.io  possibly wrong\n",
    "# NAD83  32147 http://spatialreference.org/ref/epsg/32147/\n",
    "\n",
    "##################3\n",
    "# Using the pcs.csv file\n",
    "\n",
    "# source geogcrs code\n",
    "# 4269    NAD83 lots of these\n",
    "# 4326    WGS 84 lots of these\n"
   ]
  },
  {
   "cell_type": "code",
   "execution_count": 10,
   "metadata": {},
   "outputs": [],
   "source": [
    "# Spatial Reference System\n",
    "#\n",
    "# fail\n",
    "#inputEPSG = 32147 # NAD83\n",
    "#outputEPSG = 32618 # WGS84\n",
    "# fail but close\n",
    "#inputEPSG = 4269 # NAD83\n",
    "#outputEPSG = 4326 # WGS84\n",
    "# fail\n",
    "inputEPSG = 4269 # NAD83\n",
    "outputEPSG = 4326 # WGS84\n",
    "#"
   ]
  },
  {
   "cell_type": "code",
   "execution_count": 11,
   "metadata": {},
   "outputs": [
    {
     "name": "stdout",
     "output_type": "stream",
     "text": [
      "36.679805555555554 -75.984\n",
      "using floor 36.01313888888889, 75.00066666666666\n"
     ]
    }
   ],
   "source": [
    "# Site Number: 0204300267\n",
    "# Site Name: BEGGARS BRIDGE CREEK NEAR DAWLEY CORNERS, VA\n",
    "# Site Type: Stream\n",
    "# Agency: USGS\n",
    "# Latitude 36°40'47.3\",   Longitude 75°59'02.4\"   NAD83\n",
    "# Virginia Beach City, Virginia, Hydrologic Unit 03010205\n",
    "# Datum of gage: 0.00 feet above   NAVD88.\n",
    "\n",
    "degrees = 36\n",
    "minutes = 40.0\n",
    "seconds = 47.3\n",
    "\n",
    "# According to wikipedia I should \n",
    "# use floor division for minutes\n",
    "pointX_floor = degrees + minutes//60.0 + seconds/3600.0 \n",
    "\n",
    "# According to Tuthill, don't do this\n",
    "pointX = degrees + minutes/60.0 + seconds/3600.0 \n",
    "\n",
    "\n",
    "degrees = 75\n",
    "minutes = 59.0\n",
    "seconds = 02.4\n",
    "\n",
    "# According to wikipedia I should \n",
    "# use floor division for minutes\n",
    "pointY_floor = degrees + minutes//60.0 + seconds/3600.0 \n",
    "\n",
    "# According to Tuthill, don't do this\n",
    "pointY = degrees + minutes/60.0 + seconds/3600.0 \n",
    "\n",
    "# since the number should be negative\n",
    "pointY = -pointY\n",
    "\n",
    "print(pointX, pointY)\n",
    "print(\"using floor {}, {}\".format(pointX_floor, pointY_floor))\n",
    "\n",
    "# The non use of floor seems to work.  Also its good enough that\n",
    "# the change is coordinate systems seems to not be required."
   ]
  },
  {
   "cell_type": "code",
   "execution_count": 12,
   "metadata": {},
   "outputs": [
    {
     "name": "stdout",
     "output_type": "stream",
     "text": [
      "36.679805555555554 -75.984\n"
     ]
    }
   ],
   "source": [
    "# create a geometry from coordinates\n",
    "point = ogr.Geometry(ogr.wkbPoint)\n",
    "point.AddPoint(pointX, pointY)\n",
    "\n",
    "# create coordinate transformation\n",
    "inSpatialRef = osr.SpatialReference()\n",
    "inSpatialRef.ImportFromEPSG(inputEPSG)\n",
    "\n",
    "outSpatialRef = osr.SpatialReference()\n",
    "outSpatialRef.ImportFromEPSG(outputEPSG)\n",
    "\n",
    "coordTransform = osr.CoordinateTransformation(inSpatialRef, outSpatialRef)\n",
    "\n",
    "# transform point\n",
    "point.Transform(coordTransform)\n",
    "\n",
    "\n",
    "print(point.GetX(), point.GetY())\n",
    "\n",
    "# a correct answer will be something like\n",
    "# 36.680784, -76.003623"
   ]
  },
  {
   "cell_type": "code",
   "execution_count": 13,
   "metadata": {},
   "outputs": [],
   "source": [
    "# fwiw, here is a guy using geopandas to convert data to NAD83 and he uses 4269\n",
    "# https://stackoverflow.com/questions/41820969/python-geo-spatial-coordinate-format-conversion"
   ]
  },
  {
   "cell_type": "code",
   "execution_count": 14,
   "metadata": {},
   "outputs": [
    {
     "name": "stdout",
     "output_type": "stream",
     "text": [
      "(36.679805555555554, -75.984, 0.0)\n"
     ]
    }
   ],
   "source": [
    "# another variant.  Essentially the same.\n",
    "from osgeo import osr\n",
    "inp= osr.SpatialReference()\n",
    "inp.ImportFromEPSG(inputEPSG)\n",
    "out= osr.SpatialReference()\n",
    "out.ImportFromEPSG(outputEPSG)\n",
    "transformation = osr.CoordinateTransformation(inp,out)\n",
    "print(transformation.TransformPoint(pointX,pointY))\n",
    "#(-74.27000000011289, 40.46999999990432, 0.0)"
   ]
  },
  {
   "cell_type": "code",
   "execution_count": 15,
   "metadata": {},
   "outputs": [],
   "source": [
    "gmaps.configure(api_key=os.environ[\"GOOGLE_MAPS_API_KEY\"])"
   ]
  },
  {
   "cell_type": "code",
   "execution_count": 16,
   "metadata": {},
   "outputs": [
    {
     "data": {
      "application/vnd.jupyter.widget-view+json": {
       "model_id": "4967b78830ee46a9b1bef731dac018ea",
       "version_major": 2,
       "version_minor": 0
      },
      "text/plain": [
       "Figure(layout=FigureLayout(height='420px'))"
      ]
     },
     "metadata": {},
     "output_type": "display_data"
    }
   ],
   "source": [
    "fig = gmaps.figure()\n",
    "# print the two locations, correct without floor and incorrect with floor\n",
    "locations = [(36.679805555555554, -75.984), (36.01313888888889, -75.00066666666666)]\n",
    "fig = gmaps.figure(center=(36.0, -75.0), zoom_level=8)\n",
    "fig = gmaps.figure(layout={\n",
    "        'width': '400px',\n",
    "        'height': '600px',\n",
    "        'padding': '3px',\n",
    "        'border': '1px solid black'\n",
    "})\n",
    "# give ablitly to turn on satelite\n",
    "fig = gmaps.figure(map_type='HYBRID')\n",
    "\n",
    "# show stations as green dots\n",
    "stations_layer = gmaps.symbol_layer(\n",
    "    locations, fill_color=\"green\", stroke_color=\"green\", scale=2\n",
    ")\n",
    "fig = gmaps.figure()\n",
    "fig.add_layer(stations_layer)\n",
    "\n",
    "fig"
   ]
  },
  {
   "cell_type": "code",
   "execution_count": null,
   "metadata": {},
   "outputs": [],
   "source": []
  },
  {
   "cell_type": "markdown",
   "metadata": {},
   "source": [
    "# converting all the sites to decimal lat/longs"
   ]
  },
  {
   "cell_type": "code",
   "execution_count": 31,
   "metadata": {},
   "outputs": [],
   "source": [
    "loc_degminsec_dict = {\"0204288721\":{\"lat\":{\"deg\":36.0,\"min\":49.0, \"sec\":38.0},\n",
    "                                    \"lon\":{\"deg\":-76.0,\"min\":9.0, \"sec\":56.0}},\n",
    "                      \n",
    "                      \"0204291317\":{\"lat\":{\"deg\":36.0,\"min\":50.0, \"sec\":35.9},\n",
    "                                    \"lon\":{\"deg\":-76.0,\"min\":7.0, \"sec\":28.1}},\n",
    "                      \n",
    "                      \"0204293125\":{\"lat\":{\"deg\":36.0,\"min\":50.0, \"sec\":28.1},\n",
    "                                    \"lon\":{\"deg\":-76.0,\"min\":3.0, \"sec\":25.7}},\n",
    "                      \n",
    "                      \"0204295505\":{\"lat\":{\"deg\":36.0,\"min\":51.0, \"sec\":33.4},\n",
    "                                    \"lon\":{\"deg\":-75.0,\"min\":59, \"sec\":4.1}},\n",
    "                      \n",
    "                      \"02042928\":{\"lat\":{\"deg\":36.0,\"min\":48.0, \"sec\":56.8},\n",
    "                                    \"lon\":{\"deg\":-76.0,\"min\":3.0, \"sec\":39.3}},\n",
    "                      \n",
    "                      \"0204297575\":{\"lat\":{\"deg\":36.0,\"min\":49.0, \"sec\":29.2},\n",
    "                                    \"lon\":{\"deg\":-75.0,\"min\":59.0, \"sec\":6.9}},\n",
    "                      \n",
    "                      \"02043155\":{\"lat\":{\"deg\":36.0,\"min\":47.0, \"sec\":18.1},\n",
    "                                    \"lon\":{\"deg\":-76.0,\"min\":4.0, \"sec\":14.8}},\n",
    "                      \n",
    "                      \"0204288539\":{\"lat\":{\"deg\":36.0,\"min\":42.0, \"sec\":42.1},\n",
    "                                    \"lon\":{\"deg\":-76.0,\"min\":16.0, \"sec\":5.6}},\n",
    "                      \n",
    "                      \"0204309906\":{\"lat\":{\"deg\":36.0,\"min\":41.0, \"sec\":26.32},\n",
    "                                    \"lon\":{\"deg\":-76.0,\"min\":12.0, \"sec\":44.34}},\n",
    "                      \n",
    "                      \"0204300267\":{\"lat\":{\"deg\":36.0,\"min\":40.0, \"sec\":47.3},\n",
    "                                    \"lon\":{\"deg\":-75.0,\"min\":59, \"sec\":2.4}},\n",
    "                     }"
   ]
  },
  {
   "cell_type": "code",
   "execution_count": null,
   "metadata": {},
   "outputs": [],
   "source": []
  },
  {
   "cell_type": "code",
   "execution_count": 32,
   "metadata": {},
   "outputs": [
    {
     "data": {
      "text/plain": [
       "{'deg': 36.0, 'min': 49.0, 'sec': 38.0}"
      ]
     },
     "execution_count": 32,
     "metadata": {},
     "output_type": "execute_result"
    }
   ],
   "source": [
    "loc_degminsec_dict[\"0204288721\"]['lat']"
   ]
  },
  {
   "cell_type": "code",
   "execution_count": 33,
   "metadata": {},
   "outputs": [
    {
     "data": {
      "text/plain": [
       "36.0"
      ]
     },
     "execution_count": 33,
     "metadata": {},
     "output_type": "execute_result"
    }
   ],
   "source": [
    "loc_degminsec_dict[\"0204288721\"]['lat']['deg']"
   ]
  },
  {
   "cell_type": "code",
   "execution_count": 41,
   "metadata": {},
   "outputs": [],
   "source": [
    "# convert stations location in degrees, minutes, seconds to degrees.fractional degrees\n",
    "def convert_station_in_dms_to_dfd(station):\n",
    "    degrees = loc_degminsec_dict[station]['lat']['deg']\n",
    "    minutes = loc_degminsec_dict[station]['lat']['min']\n",
    "    seconds = loc_degminsec_dict[station]['lat']['sec']\n",
    "    pointX = degrees + minutes/60.0 + seconds/3600.0 \n",
    "    \n",
    "    degrees = loc_degminsec_dict[station]['lon']['deg']\n",
    "    minutes = loc_degminsec_dict[station]['lon']['min']\n",
    "    seconds = loc_degminsec_dict[station]['lon']['sec']    \n",
    "    pointY = degrees + minutes/60.0 + seconds/3600.0 \n",
    "\n",
    "    return pointX, pointY"
   ]
  },
  {
   "cell_type": "code",
   "execution_count": 42,
   "metadata": {},
   "outputs": [],
   "source": [
    "pointX, pointY = convert_station_in_dms_to_dfd(\"0204288721\")"
   ]
  },
  {
   "cell_type": "code",
   "execution_count": 43,
   "metadata": {},
   "outputs": [
    {
     "data": {
      "text/plain": [
       "(36.827222222222225, -75.83444444444444)"
      ]
     },
     "execution_count": 43,
     "metadata": {},
     "output_type": "execute_result"
    }
   ],
   "source": [
    "(pointX, pointY)"
   ]
  },
  {
   "cell_type": "code",
   "execution_count": 44,
   "metadata": {},
   "outputs": [
    {
     "name": "stdout",
     "output_type": "stream",
     "text": [
      "station id: 0204288721 lat: 36.827222222222225 lon: -75.83444444444444\n",
      "station id: 0204291317 lat: 36.84330555555556 lon: -75.87552777777779\n",
      "station id: 0204293125 lat: 36.84113888888889 lon: -75.94286111111111\n",
      "station id: 0204295505 lat: 36.85927777777778 lon: -74.01552777777778\n",
      "station id: 02042928 lat: 36.815777777777775 lon: -75.93908333333334\n",
      "station id: 0204297575 lat: 36.82477777777778 lon: -74.01474999999999\n",
      "station id: 02043155 lat: 36.78836111111111 lon: -75.92922222222222\n",
      "station id: 0204288539 lat: 36.71169444444445 lon: -75.73177777777778\n",
      "station id: 0204309906 lat: 36.690644444444445 lon: -75.78768333333333\n",
      "station id: 0204300267 lat: 36.679805555555554 lon: -74.016\n"
     ]
    }
   ],
   "source": [
    "for station in loc_degminsec_dict:\n",
    "    pointX, pointY = convert_station_in_dms_to_dfd(station)\n",
    "    print(\"station id: {} lat: {} lon: {}\".format(station, pointX, pointY))"
   ]
  },
  {
   "cell_type": "code",
   "execution_count": null,
   "metadata": {},
   "outputs": [],
   "source": []
  }
 ],
 "metadata": {
  "kernelspec": {
   "display_name": "Python 3",
   "language": "python",
   "name": "python3"
  },
  "language_info": {
   "codemirror_mode": {
    "name": "ipython",
    "version": 3
   },
   "file_extension": ".py",
   "mimetype": "text/x-python",
   "name": "python",
   "nbconvert_exporter": "python",
   "pygments_lexer": "ipython3",
   "version": "3.7.2"
  }
 },
 "nbformat": 4,
 "nbformat_minor": 2
}
