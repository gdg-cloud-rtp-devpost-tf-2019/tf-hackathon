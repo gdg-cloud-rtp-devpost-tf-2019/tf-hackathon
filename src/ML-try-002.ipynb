{
 "cells": [
  {
   "cell_type": "code",
   "execution_count": 1,
   "metadata": {},
   "outputs": [],
   "source": [
    "# Load the TensorBoard notebook extension\n",
    "# In colab this can be done prior to the pip install above.\n",
    "# I added the pip install since it was done in the dev summit 2019 video\n",
    "%load_ext tensorboard.notebook"
   ]
  },
  {
   "cell_type": "code",
   "execution_count": 2,
   "metadata": {},
   "outputs": [],
   "source": [
    "# google collab \n",
    "\n",
    "#from google.colab import drive\n",
    "#drive.mount('/content/gdrive')"
   ]
  },
  {
   "cell_type": "code",
   "execution_count": null,
   "metadata": {},
   "outputs": [],
   "source": []
  },
  {
   "cell_type": "code",
   "execution_count": 3,
   "metadata": {},
   "outputs": [],
   "source": [
    "import datetime\n",
    "from pathlib import Path\n",
    "\n",
    "import matplotlib.pyplot as plt\n",
    "import pandas as pd\n",
    "import seaborn as sns\n",
    "import os\n",
    "\n",
    "\n",
    "import tensorflow as tf\n",
    "from tensorflow import keras\n",
    "from tensorflow.keras import layers"
   ]
  },
  {
   "cell_type": "code",
   "execution_count": 4,
   "metadata": {},
   "outputs": [
    {
     "name": "stdout",
     "output_type": "stream",
     "text": [
      "2.0.0-alpha0\n"
     ]
    }
   ],
   "source": [
    "print(tf.__version__)"
   ]
  },
  {
   "cell_type": "code",
   "execution_count": 5,
   "metadata": {},
   "outputs": [],
   "source": [
    "#from google.colab import files\n",
    "#uploaded = files.upload()"
   ]
  },
  {
   "cell_type": "code",
   "execution_count": 6,
   "metadata": {},
   "outputs": [],
   "source": [
    "# google collab version\n",
    "#CSV_FILE_NAME = \"usgs_gsvb_v2.csv\"\n",
    "# jupyter notebook version\n",
    "CSV_FILE_NAME = \"../csv/usgs_gsvb_v2.csv\"\n",
    "os.environ['CSV_FILE_NAME'] = CSV_FILE_NAME"
   ]
  },
  {
   "cell_type": "code",
   "execution_count": 7,
   "metadata": {},
   "outputs": [],
   "source": [
    "LOG_DIR_NAME = \"logs\"\n",
    "os.environ['LOG_DIR_NAME'] = LOG_DIR_NAME"
   ]
  },
  {
   "cell_type": "code",
   "execution_count": 8,
   "metadata": {},
   "outputs": [
    {
     "name": "stdout",
     "output_type": "stream",
     "text": [
      "logs\n"
     ]
    }
   ],
   "source": [
    "%%bash\n",
    "echo ${LOG_DIR_NAME}"
   ]
  },
  {
   "cell_type": "code",
   "execution_count": 9,
   "metadata": {},
   "outputs": [],
   "source": [
    "%%bash\n",
    "# clear any logs from previous runs\n",
    "rm -rf ./${LOG_DIR_NAME}"
   ]
  },
  {
   "cell_type": "code",
   "execution_count": 10,
   "metadata": {},
   "outputs": [
    {
     "name": "stdout",
     "output_type": "stream",
     "text": [
      "usgs,site_no,date,tidal_high,tidal_low,precipitation_inches,lat,long\n",
      "GSVB,33670001,2019-03-08,-6.7913385826771648,-6.7257217847769031,,36.735303,-76.011602\n",
      "GSVB,33670001,2019-03-19,-6.8569553805774275,-6.758530183727034,,36.735303,-76.011602\n",
      "GSVB,33670001,2019-02-21,1.9356955380577427,2.1325459317585302,,36.735303,-76.011602\n",
      "GSVB,33670001,2019-03-11,-6.66010498687664,-6.4304461942257216,,36.735303,-76.011602\n",
      "GSVB,33670001,2019-04-04,1.9028871391076114,2.0669291338582676,,36.735303,-76.011602\n",
      "GSVB,33670001,2019-02-14,1.7716535433070866,1.9356955380577427,,36.735303,-76.011602\n",
      "GSVB,33670001,2019-04-14,2.2309711286089238,2.39501312335958,,36.735303,-76.011602\n",
      "GSVB,33670001,2019-02-24,2.65748031496063,2.9527559055118111,,36.735303,-76.011602\n",
      "GSVB,33670001,2019-01-12,2.2965879265091864,2.39501312335958,,36.735303,-76.011602\n"
     ]
    }
   ],
   "source": [
    "%%bash\n",
    "head ${CSV_FILE_NAME}"
   ]
  },
  {
   "cell_type": "code",
   "execution_count": 11,
   "metadata": {},
   "outputs": [
    {
     "name": "stdout",
     "output_type": "stream",
     "text": [
      "    9876 ../csv/usgs_gsvb_v2.csv\n"
     ]
    }
   ],
   "source": [
    "%%bash\n",
    "# this csv file has 9875 lines corresponding to records (plus one header row)\n",
    "wc -l ${CSV_FILE_NAME}"
   ]
  },
  {
   "cell_type": "markdown",
   "metadata": {},
   "source": [
    "# Use generic python to read data into pandas dataframe"
   ]
  },
  {
   "cell_type": "markdown",
   "metadata": {},
   "source": [
    "## In order to add default values for missing data, use the converters helper functions"
   ]
  },
  {
   "cell_type": "code",
   "execution_count": 12,
   "metadata": {},
   "outputs": [],
   "source": [
    "# Create a function to look for nans in the dataframe\n",
    "# call via nans(dataset)\n",
    "nans = lambda df: df[df.isnull().any(axis=1)]"
   ]
  },
  {
   "cell_type": "code",
   "execution_count": 13,
   "metadata": {},
   "outputs": [],
   "source": [
    "# Anytime there is missing data for high tide column, use the default value of 1.2\n",
    "def default_tidal_high(cell_value):\n",
    "    # print(type(cell_value))\n",
    "    # print(\"value is {}\".format(cell_value))\n",
    "    \n",
    "    # Input cell values are strings\n",
    "    # The blanks for missing values are litteral blanks\n",
    "    try:\n",
    "        ret_value = float(cell_value)\n",
    "        return ret_value\n",
    "    except:\n",
    "        # Average of available data\n",
    "        return float(1.2)\n",
    "        \n",
    "    return cell_value       "
   ]
  },
  {
   "cell_type": "code",
   "execution_count": 14,
   "metadata": {},
   "outputs": [],
   "source": [
    "def default_tidal_low(cell_value):\n",
    "    # print(type(cell_value))\n",
    "    # print(\"value is {}\".format(cell_value))\n",
    "    \n",
    "    # Input cell values are strings\n",
    "    # The blanks for missing values are litteral blanks\n",
    "    try:\n",
    "        ret_value = float(cell_value)\n",
    "        return ret_value\n",
    "    except:\n",
    "        # Average of available data\n",
    "        return float(-0.89)\n",
    "        \n",
    "    return cell_value       "
   ]
  },
  {
   "cell_type": "code",
   "execution_count": 15,
   "metadata": {},
   "outputs": [],
   "source": [
    "def default_precipitation(cell_value):\n",
    "    # print(type(cell_value))\n",
    "    # print(\"value is {}\".format(cell_value))\n",
    "    \n",
    "    # Input cell values are strings\n",
    "    # The blanks for missing values are litteral blanks\n",
    "    try:\n",
    "        ret_value = float(cell_value)\n",
    "        return ret_value\n",
    "    except:\n",
    "        # the average rainfall divided by 365.\n",
    "        return float(0.117)\n",
    "        \n",
    "    return cell_value       "
   ]
  },
  {
   "cell_type": "code",
   "execution_count": 16,
   "metadata": {},
   "outputs": [],
   "source": [
    "raw_dataset = pd.read_csv(CSV_FILE_NAME, \n",
    "                          header=0,\n",
    "                          parse_dates=[2],\n",
    "                          converters={'precipitation_inches':default_precipitation, \n",
    "                                      'tidal_high':default_tidal_high,\n",
    "                                      'tidal_low': default_tidal_low},\n",
    "                          sep=\",\")\n",
    "\n",
    "dataset = raw_dataset.copy()"
   ]
  },
  {
   "cell_type": "code",
   "execution_count": 17,
   "metadata": {},
   "outputs": [
    {
     "data": {
      "text/html": [
       "<div>\n",
       "<style scoped>\n",
       "    .dataframe tbody tr th:only-of-type {\n",
       "        vertical-align: middle;\n",
       "    }\n",
       "\n",
       "    .dataframe tbody tr th {\n",
       "        vertical-align: top;\n",
       "    }\n",
       "\n",
       "    .dataframe thead th {\n",
       "        text-align: right;\n",
       "    }\n",
       "</style>\n",
       "<table border=\"1\" class=\"dataframe\">\n",
       "  <thead>\n",
       "    <tr style=\"text-align: right;\">\n",
       "      <th></th>\n",
       "      <th>usgs</th>\n",
       "      <th>site_no</th>\n",
       "      <th>date</th>\n",
       "      <th>tidal_high</th>\n",
       "      <th>tidal_low</th>\n",
       "      <th>precipitation_inches</th>\n",
       "      <th>lat</th>\n",
       "      <th>long</th>\n",
       "    </tr>\n",
       "  </thead>\n",
       "  <tbody>\n",
       "  </tbody>\n",
       "</table>\n",
       "</div>"
      ],
      "text/plain": [
       "Empty DataFrame\n",
       "Columns: [usgs, site_no, date, tidal_high, tidal_low, precipitation_inches, lat, long]\n",
       "Index: []"
      ]
     },
     "execution_count": 17,
     "metadata": {},
     "output_type": "execute_result"
    }
   ],
   "source": [
    "# This should show an empty set\n",
    "nans(dataset)"
   ]
  },
  {
   "cell_type": "code",
   "execution_count": 18,
   "metadata": {},
   "outputs": [
    {
     "data": {
      "text/html": [
       "<div>\n",
       "<style scoped>\n",
       "    .dataframe tbody tr th:only-of-type {\n",
       "        vertical-align: middle;\n",
       "    }\n",
       "\n",
       "    .dataframe tbody tr th {\n",
       "        vertical-align: top;\n",
       "    }\n",
       "\n",
       "    .dataframe thead th {\n",
       "        text-align: right;\n",
       "    }\n",
       "</style>\n",
       "<table border=\"1\" class=\"dataframe\">\n",
       "  <thead>\n",
       "    <tr style=\"text-align: right;\">\n",
       "      <th></th>\n",
       "      <th>usgs</th>\n",
       "      <th>site_no</th>\n",
       "      <th>date</th>\n",
       "      <th>tidal_high</th>\n",
       "      <th>tidal_low</th>\n",
       "      <th>precipitation_inches</th>\n",
       "      <th>lat</th>\n",
       "      <th>long</th>\n",
       "    </tr>\n",
       "  </thead>\n",
       "  <tbody>\n",
       "    <tr>\n",
       "      <th>0</th>\n",
       "      <td>GSVB</td>\n",
       "      <td>33670001</td>\n",
       "      <td>2019-03-08</td>\n",
       "      <td>-6.791339</td>\n",
       "      <td>-6.725722</td>\n",
       "      <td>0.117</td>\n",
       "      <td>36.735303</td>\n",
       "      <td>-76.011602</td>\n",
       "    </tr>\n",
       "    <tr>\n",
       "      <th>1</th>\n",
       "      <td>GSVB</td>\n",
       "      <td>33670001</td>\n",
       "      <td>2019-03-19</td>\n",
       "      <td>-6.856955</td>\n",
       "      <td>-6.758530</td>\n",
       "      <td>0.117</td>\n",
       "      <td>36.735303</td>\n",
       "      <td>-76.011602</td>\n",
       "    </tr>\n",
       "    <tr>\n",
       "      <th>2</th>\n",
       "      <td>GSVB</td>\n",
       "      <td>33670001</td>\n",
       "      <td>2019-02-21</td>\n",
       "      <td>1.935696</td>\n",
       "      <td>2.132546</td>\n",
       "      <td>0.117</td>\n",
       "      <td>36.735303</td>\n",
       "      <td>-76.011602</td>\n",
       "    </tr>\n",
       "    <tr>\n",
       "      <th>3</th>\n",
       "      <td>GSVB</td>\n",
       "      <td>33670001</td>\n",
       "      <td>2019-03-11</td>\n",
       "      <td>-6.660105</td>\n",
       "      <td>-6.430446</td>\n",
       "      <td>0.117</td>\n",
       "      <td>36.735303</td>\n",
       "      <td>-76.011602</td>\n",
       "    </tr>\n",
       "    <tr>\n",
       "      <th>4</th>\n",
       "      <td>GSVB</td>\n",
       "      <td>33670001</td>\n",
       "      <td>2019-04-04</td>\n",
       "      <td>1.902887</td>\n",
       "      <td>2.066929</td>\n",
       "      <td>0.117</td>\n",
       "      <td>36.735303</td>\n",
       "      <td>-76.011602</td>\n",
       "    </tr>\n",
       "  </tbody>\n",
       "</table>\n",
       "</div>"
      ],
      "text/plain": [
       "   usgs   site_no       date  tidal_high  tidal_low  precipitation_inches  \\\n",
       "0  GSVB  33670001 2019-03-08   -6.791339  -6.725722                 0.117   \n",
       "1  GSVB  33670001 2019-03-19   -6.856955  -6.758530                 0.117   \n",
       "2  GSVB  33670001 2019-02-21    1.935696   2.132546                 0.117   \n",
       "3  GSVB  33670001 2019-03-11   -6.660105  -6.430446                 0.117   \n",
       "4  GSVB  33670001 2019-04-04    1.902887   2.066929                 0.117   \n",
       "\n",
       "         lat       long  \n",
       "0  36.735303 -76.011602  \n",
       "1  36.735303 -76.011602  \n",
       "2  36.735303 -76.011602  \n",
       "3  36.735303 -76.011602  \n",
       "4  36.735303 -76.011602  "
      ]
     },
     "execution_count": 18,
     "metadata": {},
     "output_type": "execute_result"
    }
   ],
   "source": [
    "# The head shows how blank precipitation_inches default is present\n",
    "dataset.head()"
   ]
  },
  {
   "cell_type": "code",
   "execution_count": 19,
   "metadata": {},
   "outputs": [
    {
     "data": {
      "text/html": [
       "<div>\n",
       "<style scoped>\n",
       "    .dataframe tbody tr th:only-of-type {\n",
       "        vertical-align: middle;\n",
       "    }\n",
       "\n",
       "    .dataframe tbody tr th {\n",
       "        vertical-align: top;\n",
       "    }\n",
       "\n",
       "    .dataframe thead th {\n",
       "        text-align: right;\n",
       "    }\n",
       "</style>\n",
       "<table border=\"1\" class=\"dataframe\">\n",
       "  <thead>\n",
       "    <tr style=\"text-align: right;\">\n",
       "      <th></th>\n",
       "      <th>usgs</th>\n",
       "      <th>site_no</th>\n",
       "      <th>date</th>\n",
       "      <th>tidal_high</th>\n",
       "      <th>tidal_low</th>\n",
       "      <th>precipitation_inches</th>\n",
       "      <th>lat</th>\n",
       "      <th>long</th>\n",
       "    </tr>\n",
       "  </thead>\n",
       "  <tbody>\n",
       "    <tr>\n",
       "      <th>9870</th>\n",
       "      <td>USGS</td>\n",
       "      <td>204291317</td>\n",
       "      <td>2017-12-23</td>\n",
       "      <td>0.70</td>\n",
       "      <td>-1.53</td>\n",
       "      <td>0.06</td>\n",
       "      <td>36.843306</td>\n",
       "      <td>-76.124472</td>\n",
       "    </tr>\n",
       "    <tr>\n",
       "      <th>9871</th>\n",
       "      <td>USGS</td>\n",
       "      <td>204291317</td>\n",
       "      <td>2016-05-05</td>\n",
       "      <td>3.58</td>\n",
       "      <td>-0.26</td>\n",
       "      <td>0.06</td>\n",
       "      <td>36.843306</td>\n",
       "      <td>-76.124472</td>\n",
       "    </tr>\n",
       "    <tr>\n",
       "      <th>9872</th>\n",
       "      <td>USGS</td>\n",
       "      <td>204291317</td>\n",
       "      <td>2019-01-12</td>\n",
       "      <td>1.07</td>\n",
       "      <td>-0.88</td>\n",
       "      <td>0.06</td>\n",
       "      <td>36.843306</td>\n",
       "      <td>-76.124472</td>\n",
       "    </tr>\n",
       "    <tr>\n",
       "      <th>9873</th>\n",
       "      <td>USGS</td>\n",
       "      <td>204291317</td>\n",
       "      <td>2019-01-08</td>\n",
       "      <td>1.60</td>\n",
       "      <td>-0.85</td>\n",
       "      <td>0.06</td>\n",
       "      <td>36.843306</td>\n",
       "      <td>-76.124472</td>\n",
       "    </tr>\n",
       "    <tr>\n",
       "      <th>9874</th>\n",
       "      <td>USGS</td>\n",
       "      <td>204291317</td>\n",
       "      <td>2017-04-26</td>\n",
       "      <td>2.38</td>\n",
       "      <td>-0.88</td>\n",
       "      <td>0.06</td>\n",
       "      <td>36.843306</td>\n",
       "      <td>-76.124472</td>\n",
       "    </tr>\n",
       "  </tbody>\n",
       "</table>\n",
       "</div>"
      ],
      "text/plain": [
       "      usgs    site_no       date  tidal_high  tidal_low  precipitation_inches  \\\n",
       "9870  USGS  204291317 2017-12-23        0.70      -1.53                  0.06   \n",
       "9871  USGS  204291317 2016-05-05        3.58      -0.26                  0.06   \n",
       "9872  USGS  204291317 2019-01-12        1.07      -0.88                  0.06   \n",
       "9873  USGS  204291317 2019-01-08        1.60      -0.85                  0.06   \n",
       "9874  USGS  204291317 2017-04-26        2.38      -0.88                  0.06   \n",
       "\n",
       "            lat       long  \n",
       "9870  36.843306 -76.124472  \n",
       "9871  36.843306 -76.124472  \n",
       "9872  36.843306 -76.124472  \n",
       "9873  36.843306 -76.124472  \n",
       "9874  36.843306 -76.124472  "
      ]
     },
     "execution_count": 19,
     "metadata": {},
     "output_type": "execute_result"
    }
   ],
   "source": [
    "# The tail shows how a true precipitation values from csv is present\n",
    "dataset.tail()"
   ]
  },
  {
   "cell_type": "markdown",
   "metadata": {},
   "source": [
    "# Are the columns the correct datatypes?"
   ]
  },
  {
   "cell_type": "code",
   "execution_count": 20,
   "metadata": {},
   "outputs": [
    {
     "name": "stdout",
     "output_type": "stream",
     "text": [
      "<class 'pandas.core.frame.DataFrame'>\n",
      "RangeIndex: 9875 entries, 0 to 9874\n",
      "Data columns (total 8 columns):\n",
      "usgs                    9875 non-null object\n",
      "site_no                 9875 non-null int64\n",
      "date                    9875 non-null datetime64[ns]\n",
      "tidal_high              9875 non-null float64\n",
      "tidal_low               9875 non-null float64\n",
      "precipitation_inches    9875 non-null float64\n",
      "lat                     9875 non-null float64\n",
      "long                    9875 non-null float64\n",
      "dtypes: datetime64[ns](1), float64(5), int64(1), object(1)\n",
      "memory usage: 617.3+ KB\n"
     ]
    }
   ],
   "source": [
    "dataset.info()"
   ]
  },
  {
   "cell_type": "code",
   "execution_count": 21,
   "metadata": {},
   "outputs": [
    {
     "data": {
      "text/html": [
       "<div>\n",
       "<style scoped>\n",
       "    .dataframe tbody tr th:only-of-type {\n",
       "        vertical-align: middle;\n",
       "    }\n",
       "\n",
       "    .dataframe tbody tr th {\n",
       "        vertical-align: top;\n",
       "    }\n",
       "\n",
       "    .dataframe thead th {\n",
       "        text-align: right;\n",
       "    }\n",
       "</style>\n",
       "<table border=\"1\" class=\"dataframe\">\n",
       "  <thead>\n",
       "    <tr style=\"text-align: right;\">\n",
       "      <th></th>\n",
       "      <th>count</th>\n",
       "      <th>mean</th>\n",
       "      <th>std</th>\n",
       "      <th>min</th>\n",
       "      <th>25%</th>\n",
       "      <th>50%</th>\n",
       "      <th>75%</th>\n",
       "      <th>max</th>\n",
       "    </tr>\n",
       "  </thead>\n",
       "  <tbody>\n",
       "    <tr>\n",
       "      <th>site_no</th>\n",
       "      <td>9875.0</td>\n",
       "      <td>1.595645e+08</td>\n",
       "      <td>8.112594e+07</td>\n",
       "      <td>2.042928e+06</td>\n",
       "      <td>2.042885e+08</td>\n",
       "      <td>2.042913e+08</td>\n",
       "      <td>2.042955e+08</td>\n",
       "      <td>2.043003e+08</td>\n",
       "    </tr>\n",
       "    <tr>\n",
       "      <th>tidal_high</th>\n",
       "      <td>9875.0</td>\n",
       "      <td>1.208827e+00</td>\n",
       "      <td>1.668611e+00</td>\n",
       "      <td>-2.132546e+01</td>\n",
       "      <td>7.800000e-01</td>\n",
       "      <td>1.410000e+00</td>\n",
       "      <td>1.964252e+00</td>\n",
       "      <td>7.020000e+00</td>\n",
       "    </tr>\n",
       "    <tr>\n",
       "      <th>tidal_low</th>\n",
       "      <td>9875.0</td>\n",
       "      <td>-8.881704e-01</td>\n",
       "      <td>1.350213e+00</td>\n",
       "      <td>-1.407480e+01</td>\n",
       "      <td>-1.490000e+00</td>\n",
       "      <td>-8.900000e-01</td>\n",
       "      <td>-3.400000e-01</td>\n",
       "      <td>1.013780e+01</td>\n",
       "    </tr>\n",
       "    <tr>\n",
       "      <th>precipitation_inches</th>\n",
       "      <td>9875.0</td>\n",
       "      <td>1.316892e-01</td>\n",
       "      <td>4.401681e-01</td>\n",
       "      <td>-2.670000e+00</td>\n",
       "      <td>0.000000e+00</td>\n",
       "      <td>1.170000e-01</td>\n",
       "      <td>1.170000e-01</td>\n",
       "      <td>9.490000e+00</td>\n",
       "    </tr>\n",
       "    <tr>\n",
       "      <th>lat</th>\n",
       "      <td>9875.0</td>\n",
       "      <td>3.679307e+01</td>\n",
       "      <td>6.597209e-02</td>\n",
       "      <td>3.658199e+01</td>\n",
       "      <td>3.671169e+01</td>\n",
       "      <td>3.682478e+01</td>\n",
       "      <td>3.684114e+01</td>\n",
       "      <td>3.690352e+01</td>\n",
       "    </tr>\n",
       "    <tr>\n",
       "      <th>long</th>\n",
       "      <td>9875.0</td>\n",
       "      <td>-7.607719e+01</td>\n",
       "      <td>9.532894e-02</td>\n",
       "      <td>-7.629074e+01</td>\n",
       "      <td>-7.612447e+01</td>\n",
       "      <td>-7.606092e+01</td>\n",
       "      <td>-7.598525e+01</td>\n",
       "      <td>-7.592638e+01</td>\n",
       "    </tr>\n",
       "  </tbody>\n",
       "</table>\n",
       "</div>"
      ],
      "text/plain": [
       "                       count          mean           std           min  \\\n",
       "site_no               9875.0  1.595645e+08  8.112594e+07  2.042928e+06   \n",
       "tidal_high            9875.0  1.208827e+00  1.668611e+00 -2.132546e+01   \n",
       "tidal_low             9875.0 -8.881704e-01  1.350213e+00 -1.407480e+01   \n",
       "precipitation_inches  9875.0  1.316892e-01  4.401681e-01 -2.670000e+00   \n",
       "lat                   9875.0  3.679307e+01  6.597209e-02  3.658199e+01   \n",
       "long                  9875.0 -7.607719e+01  9.532894e-02 -7.629074e+01   \n",
       "\n",
       "                               25%           50%           75%           max  \n",
       "site_no               2.042885e+08  2.042913e+08  2.042955e+08  2.043003e+08  \n",
       "tidal_high            7.800000e-01  1.410000e+00  1.964252e+00  7.020000e+00  \n",
       "tidal_low            -1.490000e+00 -8.900000e-01 -3.400000e-01  1.013780e+01  \n",
       "precipitation_inches  0.000000e+00  1.170000e-01  1.170000e-01  9.490000e+00  \n",
       "lat                   3.671169e+01  3.682478e+01  3.684114e+01  3.690352e+01  \n",
       "long                 -7.612447e+01 -7.606092e+01 -7.598525e+01 -7.592638e+01  "
      ]
     },
     "execution_count": 21,
     "metadata": {},
     "output_type": "execute_result"
    }
   ],
   "source": [
    "# this only returns numeric columns.  'date' column is ommited\n",
    "dataset.describe().transpose()"
   ]
  },
  {
   "cell_type": "code",
   "execution_count": null,
   "metadata": {},
   "outputs": [],
   "source": []
  },
  {
   "cell_type": "markdown",
   "metadata": {},
   "source": [
    "# Split the data into train, test and validation datasets"
   ]
  },
  {
   "cell_type": "code",
   "execution_count": 22,
   "metadata": {},
   "outputs": [],
   "source": [
    "train_ds = dataset.sample(frac=0.7,random_state=3367)"
   ]
  },
  {
   "cell_type": "code",
   "execution_count": 23,
   "metadata": {},
   "outputs": [],
   "source": [
    "leftover_ds = dataset.drop(train_ds.index)"
   ]
  },
  {
   "cell_type": "code",
   "execution_count": 24,
   "metadata": {},
   "outputs": [],
   "source": [
    "test_ds = leftover_ds.sample(frac=0.5, random_state=3367)"
   ]
  },
  {
   "cell_type": "code",
   "execution_count": 25,
   "metadata": {},
   "outputs": [],
   "source": [
    "valid_ds = leftover_ds.drop(test_ds.index)"
   ]
  },
  {
   "cell_type": "markdown",
   "metadata": {},
   "source": [
    "### examine the split datasets"
   ]
  },
  {
   "cell_type": "code",
   "execution_count": 26,
   "metadata": {},
   "outputs": [
    {
     "name": "stdout",
     "output_type": "stream",
     "text": [
      "train size = (6912, 8)\n",
      "test size = (1482, 8)\n",
      "valid size = (1481, 8)\n",
      "sum of rows = 9875\n"
     ]
    }
   ],
   "source": [
    "print(\"train size = {}\".format(train_ds.shape))\n",
    "print(\"test size = {}\".format(test_ds.shape))\n",
    "print(\"valid size = {}\".format(valid_ds.shape))\n",
    "print(\"sum of rows = {}\".format(train_ds.shape[0] + test_ds.shape[0] + valid_ds.shape[0]))"
   ]
  },
  {
   "cell_type": "code",
   "execution_count": 27,
   "metadata": {},
   "outputs": [
    {
     "name": "stdout",
     "output_type": "stream",
     "text": [
      "<class 'pandas.core.frame.DataFrame'>\n",
      "Int64Index: 6912 entries, 2053 to 8942\n",
      "Data columns (total 8 columns):\n",
      "usgs                    6912 non-null object\n",
      "site_no                 6912 non-null int64\n",
      "date                    6912 non-null datetime64[ns]\n",
      "tidal_high              6912 non-null float64\n",
      "tidal_low               6912 non-null float64\n",
      "precipitation_inches    6912 non-null float64\n",
      "lat                     6912 non-null float64\n",
      "long                    6912 non-null float64\n",
      "dtypes: datetime64[ns](1), float64(5), int64(1), object(1)\n",
      "memory usage: 486.0+ KB\n"
     ]
    }
   ],
   "source": [
    "train_ds.info()"
   ]
  },
  {
   "cell_type": "markdown",
   "metadata": {},
   "source": [
    "# Inspect the data\n",
    "Have a quick look at the joint distribution of few pairs of columns from training set"
   ]
  },
  {
   "cell_type": "code",
   "execution_count": 28,
   "metadata": {},
   "outputs": [
    {
     "data": {
      "text/plain": [
       "<seaborn.axisgrid.PairGrid at 0x11e5067f0>"
      ]
     },
     "execution_count": 28,
     "metadata": {},
     "output_type": "execute_result"
    },
    {
     "data": {
      "image/png": "[encoded data removed]",
      "text/plain": [
       "<Figure size 720x720 with 20 Axes>"
      ]
     },
     "metadata": {
      "needs_background": "light"
     },
     "output_type": "display_data"
    }
   ],
   "source": [
    "# Omit the date\n",
    "sns.pairplot(train_ds[[\"lat\", \"long\", \"tidal_high\", \"precipitation_inches\"]], diag_kind=\"kde\")"
   ]
  },
  {
   "cell_type": "code",
   "execution_count": 29,
   "metadata": {},
   "outputs": [
    {
     "data": {
      "text/html": [
       "<div>\n",
       "<style scoped>\n",
       "    .dataframe tbody tr th:only-of-type {\n",
       "        vertical-align: middle;\n",
       "    }\n",
       "\n",
       "    .dataframe tbody tr th {\n",
       "        vertical-align: top;\n",
       "    }\n",
       "\n",
       "    .dataframe thead th {\n",
       "        text-align: right;\n",
       "    }\n",
       "</style>\n",
       "<table border=\"1\" class=\"dataframe\">\n",
       "  <thead>\n",
       "    <tr style=\"text-align: right;\">\n",
       "      <th></th>\n",
       "      <th>count</th>\n",
       "      <th>mean</th>\n",
       "      <th>std</th>\n",
       "      <th>min</th>\n",
       "      <th>25%</th>\n",
       "      <th>50%</th>\n",
       "      <th>75%</th>\n",
       "      <th>max</th>\n",
       "    </tr>\n",
       "  </thead>\n",
       "  <tbody>\n",
       "    <tr>\n",
       "      <th>site_no</th>\n",
       "      <td>6912.0</td>\n",
       "      <td>1.591171e+08</td>\n",
       "      <td>8.153117e+07</td>\n",
       "      <td>2.042928e+06</td>\n",
       "      <td>2.042885e+08</td>\n",
       "      <td>2.042913e+08</td>\n",
       "      <td>2.042955e+08</td>\n",
       "      <td>2.043003e+08</td>\n",
       "    </tr>\n",
       "    <tr>\n",
       "      <th>tidal_high</th>\n",
       "      <td>6912.0</td>\n",
       "      <td>1.199061e+00</td>\n",
       "      <td>1.687287e+00</td>\n",
       "      <td>-2.132546e+01</td>\n",
       "      <td>7.600000e-01</td>\n",
       "      <td>1.400000e+00</td>\n",
       "      <td>1.962126e+00</td>\n",
       "      <td>7.020000e+00</td>\n",
       "    </tr>\n",
       "    <tr>\n",
       "      <th>tidal_low</th>\n",
       "      <td>6912.0</td>\n",
       "      <td>-9.001521e-01</td>\n",
       "      <td>1.349539e+00</td>\n",
       "      <td>-1.407480e+01</td>\n",
       "      <td>-1.490000e+00</td>\n",
       "      <td>-8.900000e-01</td>\n",
       "      <td>-3.600000e-01</td>\n",
       "      <td>6.725722e+00</td>\n",
       "    </tr>\n",
       "    <tr>\n",
       "      <th>precipitation_inches</th>\n",
       "      <td>6912.0</td>\n",
       "      <td>1.311445e-01</td>\n",
       "      <td>4.546988e-01</td>\n",
       "      <td>-2.670000e+00</td>\n",
       "      <td>0.000000e+00</td>\n",
       "      <td>1.170000e-01</td>\n",
       "      <td>1.170000e-01</td>\n",
       "      <td>9.490000e+00</td>\n",
       "    </tr>\n",
       "    <tr>\n",
       "      <th>lat</th>\n",
       "      <td>6912.0</td>\n",
       "      <td>3.679232e+01</td>\n",
       "      <td>6.561202e-02</td>\n",
       "      <td>3.658199e+01</td>\n",
       "      <td>3.671169e+01</td>\n",
       "      <td>3.682478e+01</td>\n",
       "      <td>3.684114e+01</td>\n",
       "      <td>3.690352e+01</td>\n",
       "    </tr>\n",
       "    <tr>\n",
       "      <th>long</th>\n",
       "      <td>6912.0</td>\n",
       "      <td>-7.607650e+01</td>\n",
       "      <td>9.573631e-02</td>\n",
       "      <td>-7.629074e+01</td>\n",
       "      <td>-7.612447e+01</td>\n",
       "      <td>-7.605714e+01</td>\n",
       "      <td>-7.598525e+01</td>\n",
       "      <td>-7.592638e+01</td>\n",
       "    </tr>\n",
       "  </tbody>\n",
       "</table>\n",
       "</div>"
      ],
      "text/plain": [
       "                       count          mean           std           min  \\\n",
       "site_no               6912.0  1.591171e+08  8.153117e+07  2.042928e+06   \n",
       "tidal_high            6912.0  1.199061e+00  1.687287e+00 -2.132546e+01   \n",
       "tidal_low             6912.0 -9.001521e-01  1.349539e+00 -1.407480e+01   \n",
       "precipitation_inches  6912.0  1.311445e-01  4.546988e-01 -2.670000e+00   \n",
       "lat                   6912.0  3.679232e+01  6.561202e-02  3.658199e+01   \n",
       "long                  6912.0 -7.607650e+01  9.573631e-02 -7.629074e+01   \n",
       "\n",
       "                               25%           50%           75%           max  \n",
       "site_no               2.042885e+08  2.042913e+08  2.042955e+08  2.043003e+08  \n",
       "tidal_high            7.600000e-01  1.400000e+00  1.962126e+00  7.020000e+00  \n",
       "tidal_low            -1.490000e+00 -8.900000e-01 -3.600000e-01  6.725722e+00  \n",
       "precipitation_inches  0.000000e+00  1.170000e-01  1.170000e-01  9.490000e+00  \n",
       "lat                   3.671169e+01  3.682478e+01  3.684114e+01  3.690352e+01  \n",
       "long                 -7.612447e+01 -7.605714e+01 -7.598525e+01 -7.592638e+01  "
      ]
     },
     "execution_count": 29,
     "metadata": {},
     "output_type": "execute_result"
    }
   ],
   "source": [
    "train_ds.describe().transpose()"
   ]
  },
  {
   "cell_type": "code",
   "execution_count": null,
   "metadata": {},
   "outputs": [],
   "source": []
  },
  {
   "cell_type": "code",
   "execution_count": null,
   "metadata": {},
   "outputs": [],
   "source": []
  },
  {
   "cell_type": "markdown",
   "metadata": {},
   "source": [
    "# Split features from labels"
   ]
  },
  {
   "cell_type": "code",
   "execution_count": 30,
   "metadata": {},
   "outputs": [],
   "source": [
    "# Create seperate series/dataframe? for labels\n",
    "# Remove the label from the dataframes.\n",
    "train_labels = train_ds.pop('tidal_high')\n",
    "test_labels = test_ds.pop('tidal_high')\n",
    "valid_labels = valid_ds.pop('tidal_high')\n",
    "#\n",
    "# Also remove the columns which are not used as features\n",
    "train_ds.drop(['usgs','tidal_low','site_no'], axis=1, inplace=True)\n",
    "test_ds.drop(['usgs','tidal_low','site_no'], axis=1, inplace=True)\n",
    "valid_ds.drop(['usgs','tidal_low','site_no'], axis=1, inplace=True)"
   ]
  },
  {
   "cell_type": "code",
   "execution_count": 31,
   "metadata": {},
   "outputs": [
    {
     "data": {
      "text/html": [
       "<div>\n",
       "<style scoped>\n",
       "    .dataframe tbody tr th:only-of-type {\n",
       "        vertical-align: middle;\n",
       "    }\n",
       "\n",
       "    .dataframe tbody tr th {\n",
       "        vertical-align: top;\n",
       "    }\n",
       "\n",
       "    .dataframe thead th {\n",
       "        text-align: right;\n",
       "    }\n",
       "</style>\n",
       "<table border=\"1\" class=\"dataframe\">\n",
       "  <thead>\n",
       "    <tr style=\"text-align: right;\">\n",
       "      <th></th>\n",
       "      <th>count</th>\n",
       "      <th>mean</th>\n",
       "      <th>std</th>\n",
       "      <th>min</th>\n",
       "      <th>25%</th>\n",
       "      <th>50%</th>\n",
       "      <th>75%</th>\n",
       "      <th>max</th>\n",
       "    </tr>\n",
       "  </thead>\n",
       "  <tbody>\n",
       "    <tr>\n",
       "      <th>precipitation_inches</th>\n",
       "      <td>6912.0</td>\n",
       "      <td>0.131145</td>\n",
       "      <td>0.454699</td>\n",
       "      <td>-2.67000</td>\n",
       "      <td>0.000000</td>\n",
       "      <td>0.117000</td>\n",
       "      <td>0.117000</td>\n",
       "      <td>9.49000</td>\n",
       "    </tr>\n",
       "    <tr>\n",
       "      <th>lat</th>\n",
       "      <td>6912.0</td>\n",
       "      <td>36.792325</td>\n",
       "      <td>0.065612</td>\n",
       "      <td>36.58199</td>\n",
       "      <td>36.711694</td>\n",
       "      <td>36.824778</td>\n",
       "      <td>36.841139</td>\n",
       "      <td>36.90352</td>\n",
       "    </tr>\n",
       "    <tr>\n",
       "      <th>long</th>\n",
       "      <td>6912.0</td>\n",
       "      <td>-76.076501</td>\n",
       "      <td>0.095736</td>\n",
       "      <td>-76.29074</td>\n",
       "      <td>-76.124472</td>\n",
       "      <td>-76.057139</td>\n",
       "      <td>-75.985250</td>\n",
       "      <td>-75.92638</td>\n",
       "    </tr>\n",
       "  </tbody>\n",
       "</table>\n",
       "</div>"
      ],
      "text/plain": [
       "                       count       mean       std       min        25%  \\\n",
       "precipitation_inches  6912.0   0.131145  0.454699  -2.67000   0.000000   \n",
       "lat                   6912.0  36.792325  0.065612  36.58199  36.711694   \n",
       "long                  6912.0 -76.076501  0.095736 -76.29074 -76.124472   \n",
       "\n",
       "                            50%        75%       max  \n",
       "precipitation_inches   0.117000   0.117000   9.49000  \n",
       "lat                   36.824778  36.841139  36.90352  \n",
       "long                 -76.057139 -75.985250 -75.92638  "
      ]
     },
     "execution_count": 31,
     "metadata": {},
     "output_type": "execute_result"
    }
   ],
   "source": [
    "train_ds.describe().transpose()"
   ]
  },
  {
   "cell_type": "code",
   "execution_count": 32,
   "metadata": {},
   "outputs": [
    {
     "name": "stdout",
     "output_type": "stream",
     "text": [
      "<class 'pandas.core.frame.DataFrame'>\n",
      "Int64Index: 6912 entries, 2053 to 8942\n",
      "Data columns (total 4 columns):\n",
      "date                    6912 non-null datetime64[ns]\n",
      "precipitation_inches    6912 non-null float64\n",
      "lat                     6912 non-null float64\n",
      "long                    6912 non-null float64\n",
      "dtypes: datetime64[ns](1), float64(3)\n",
      "memory usage: 590.0 KB\n"
     ]
    }
   ],
   "source": [
    "train_ds.info()"
   ]
  },
  {
   "cell_type": "markdown",
   "metadata": {},
   "source": [
    "# Normalize the data"
   ]
  },
  {
   "cell_type": "code",
   "execution_count": 33,
   "metadata": {},
   "outputs": [],
   "source": [
    "# Use the training data to get mean and std.  Use it\n",
    "# to normalize the datasets.  This will not have \n",
    "# the date column.\n",
    "train_stats = train_ds.describe().transpose()\n",
    "\n",
    "def norm(a_df):\n",
    "    # Since data used to normalize data is only for numeric columns,\n",
    "    # the data column is not present.  Remove this column, do the normalize\n",
    "    # operation and then join back the date column\n",
    "    \n",
    "    # create a date dataframe from one column. \n",
    "    # Use the list selector for a single column to make it a df instead of a series\n",
    "    the_dates_df = a_df[['date']]\n",
    "    # remove the date column since its saved now.\n",
    "    a_df.pop('date')\n",
    "    # Do the norm operation\n",
    "    normed_df = (a_df - train_stats['mean']) / train_stats['std']\n",
    "    # add back the date column to normalized dataframe\n",
    "    normed_df = the_dates_df.join(normed_df)\n",
    "    return normed_df\n",
    "\n",
    "normed_train_ds = norm(train_ds)\n",
    "normed_test_ds = norm(test_ds)\n",
    "normed_valid_ds = norm(valid_ds)"
   ]
  },
  {
   "cell_type": "code",
   "execution_count": 34,
   "metadata": {},
   "outputs": [
    {
     "data": {
      "text/html": [
       "<div>\n",
       "<style scoped>\n",
       "    .dataframe tbody tr th:only-of-type {\n",
       "        vertical-align: middle;\n",
       "    }\n",
       "\n",
       "    .dataframe tbody tr th {\n",
       "        vertical-align: top;\n",
       "    }\n",
       "\n",
       "    .dataframe thead th {\n",
       "        text-align: right;\n",
       "    }\n",
       "</style>\n",
       "<table border=\"1\" class=\"dataframe\">\n",
       "  <thead>\n",
       "    <tr style=\"text-align: right;\">\n",
       "      <th></th>\n",
       "      <th>date</th>\n",
       "      <th>precipitation_inches</th>\n",
       "      <th>lat</th>\n",
       "      <th>long</th>\n",
       "    </tr>\n",
       "  </thead>\n",
       "  <tbody>\n",
       "    <tr>\n",
       "      <th>2053</th>\n",
       "      <td>2017-10-19</td>\n",
       "      <td>-0.838235</td>\n",
       "      <td>-1.714918</td>\n",
       "      <td>0.966206</td>\n",
       "    </tr>\n",
       "    <tr>\n",
       "      <th>539</th>\n",
       "      <td>2019-03-09</td>\n",
       "      <td>-0.031107</td>\n",
       "      <td>-1.262646</td>\n",
       "      <td>0.920246</td>\n",
       "    </tr>\n",
       "    <tr>\n",
       "      <th>2445</th>\n",
       "      <td>2017-04-05</td>\n",
       "      <td>1.383015</td>\n",
       "      <td>-1.714918</td>\n",
       "      <td>0.966206</td>\n",
       "    </tr>\n",
       "    <tr>\n",
       "      <th>5486</th>\n",
       "      <td>2018-07-30</td>\n",
       "      <td>-0.031107</td>\n",
       "      <td>0.357450</td>\n",
       "      <td>0.162784</td>\n",
       "    </tr>\n",
       "    <tr>\n",
       "      <th>7349</th>\n",
       "      <td>2018-12-30</td>\n",
       "      <td>-0.288421</td>\n",
       "      <td>0.494620</td>\n",
       "      <td>0.953149</td>\n",
       "    </tr>\n",
       "  </tbody>\n",
       "</table>\n",
       "</div>"
      ],
      "text/plain": [
       "           date  precipitation_inches       lat      long\n",
       "2053 2017-10-19             -0.838235 -1.714918  0.966206\n",
       "539  2019-03-09             -0.031107 -1.262646  0.920246\n",
       "2445 2017-04-05              1.383015 -1.714918  0.966206\n",
       "5486 2018-07-30             -0.031107  0.357450  0.162784\n",
       "7349 2018-12-30             -0.288421  0.494620  0.953149"
      ]
     },
     "execution_count": 34,
     "metadata": {},
     "output_type": "execute_result"
    }
   ],
   "source": [
    "normed_train_ds.head()"
   ]
  },
  {
   "cell_type": "code",
   "execution_count": null,
   "metadata": {},
   "outputs": [],
   "source": []
  },
  {
   "cell_type": "markdown",
   "metadata": {},
   "source": [
    "# model can not handle dates.  Remove for now."
   ]
  },
  {
   "cell_type": "code",
   "execution_count": 35,
   "metadata": {},
   "outputs": [],
   "source": [
    "normed_train_ds.drop(['date'], axis=1, inplace=True)\n",
    "normed_test_ds.drop(['date'], axis=1, inplace=True)\n",
    "normed_valid_ds.drop(['date'], axis=1, inplace=True)"
   ]
  },
  {
   "cell_type": "code",
   "execution_count": null,
   "metadata": {},
   "outputs": [],
   "source": []
  },
  {
   "cell_type": "code",
   "execution_count": null,
   "metadata": {},
   "outputs": [],
   "source": []
  },
  {
   "cell_type": "markdown",
   "metadata": {},
   "source": [
    "# The model"
   ]
  },
  {
   "cell_type": "markdown",
   "metadata": {},
   "source": [
    "## Build the model using keras and sequential"
   ]
  },
  {
   "cell_type": "code",
   "execution_count": 36,
   "metadata": {},
   "outputs": [],
   "source": [
    "# train_ds determines the input feature size\n",
    "model = keras.Sequential([\n",
    "    layers.Dense(64, activation=tf.nn.relu, input_shape=[len(normed_train_ds.keys())]),\n",
    "    layers.Dense(64, activation=tf.nn.relu),\n",
    "    layers.Dense(1)\n",
    "    ])\n",
    "\n",
    "optimizer = tf.keras.optimizers.RMSprop(0.001)\n",
    "\n",
    "model.compile(loss='mean_squared_error',\n",
    "              optimizer=optimizer,\n",
    "              metrics=['mean_absolute_error', 'mean_squared_error'])\n"
   ]
  },
  {
   "cell_type": "code",
   "execution_count": null,
   "metadata": {},
   "outputs": [],
   "source": []
  },
  {
   "cell_type": "markdown",
   "metadata": {},
   "source": [
    "## Inspect the model"
   ]
  },
  {
   "cell_type": "code",
   "execution_count": 37,
   "metadata": {},
   "outputs": [
    {
     "name": "stdout",
     "output_type": "stream",
     "text": [
      "Model: \"sequential\"\n",
      "_________________________________________________________________\n",
      "Layer (type)                 Output Shape              Param #   \n",
      "=================================================================\n",
      "dense (Dense)                (None, 64)                256       \n",
      "_________________________________________________________________\n",
      "dense_1 (Dense)              (None, 64)                4160      \n",
      "_________________________________________________________________\n",
      "dense_2 (Dense)              (None, 1)                 65        \n",
      "=================================================================\n",
      "Total params: 4,481\n",
      "Trainable params: 4,481\n",
      "Non-trainable params: 0\n",
      "_________________________________________________________________\n"
     ]
    }
   ],
   "source": [
    "model.summary()"
   ]
  },
  {
   "cell_type": "code",
   "execution_count": 38,
   "metadata": {},
   "outputs": [
    {
     "data": {
      "text/plain": [
       "Index(['precipitation_inches', 'lat', 'long'], dtype='object')"
      ]
     },
     "execution_count": 38,
     "metadata": {},
     "output_type": "execute_result"
    }
   ],
   "source": [
    "normed_train_ds.keys()"
   ]
  },
  {
   "cell_type": "code",
   "execution_count": null,
   "metadata": {},
   "outputs": [],
   "source": []
  },
  {
   "cell_type": "markdown",
   "metadata": {},
   "source": [
    "Try out the model.  Take a batch of 10 samples from training data and call `model_predict` on it."
   ]
  },
  {
   "cell_type": "code",
   "execution_count": 39,
   "metadata": {},
   "outputs": [
    {
     "data": {
      "text/html": [
       "<div>\n",
       "<style scoped>\n",
       "    .dataframe tbody tr th:only-of-type {\n",
       "        vertical-align: middle;\n",
       "    }\n",
       "\n",
       "    .dataframe tbody tr th {\n",
       "        vertical-align: top;\n",
       "    }\n",
       "\n",
       "    .dataframe thead th {\n",
       "        text-align: right;\n",
       "    }\n",
       "</style>\n",
       "<table border=\"1\" class=\"dataframe\">\n",
       "  <thead>\n",
       "    <tr style=\"text-align: right;\">\n",
       "      <th></th>\n",
       "      <th>precipitation_inches</th>\n",
       "      <th>lat</th>\n",
       "      <th>long</th>\n",
       "    </tr>\n",
       "  </thead>\n",
       "  <tbody>\n",
       "    <tr>\n",
       "      <th>2053</th>\n",
       "      <td>-0.838235</td>\n",
       "      <td>-1.714918</td>\n",
       "      <td>0.966206</td>\n",
       "    </tr>\n",
       "    <tr>\n",
       "      <th>539</th>\n",
       "      <td>-0.031107</td>\n",
       "      <td>-1.262646</td>\n",
       "      <td>0.920246</td>\n",
       "    </tr>\n",
       "    <tr>\n",
       "      <th>2445</th>\n",
       "      <td>1.383015</td>\n",
       "      <td>-1.714918</td>\n",
       "      <td>0.966206</td>\n",
       "    </tr>\n",
       "    <tr>\n",
       "      <th>5486</th>\n",
       "      <td>-0.031107</td>\n",
       "      <td>0.357450</td>\n",
       "      <td>0.162784</td>\n",
       "    </tr>\n",
       "    <tr>\n",
       "      <th>7349</th>\n",
       "      <td>-0.288421</td>\n",
       "      <td>0.494620</td>\n",
       "      <td>0.953149</td>\n",
       "    </tr>\n",
       "  </tbody>\n",
       "</table>\n",
       "</div>"
      ],
      "text/plain": [
       "      precipitation_inches       lat      long\n",
       "2053             -0.838235 -1.714918  0.966206\n",
       "539              -0.031107 -1.262646  0.920246\n",
       "2445              1.383015 -1.714918  0.966206\n",
       "5486             -0.031107  0.357450  0.162784\n",
       "7349             -0.288421  0.494620  0.953149"
      ]
     },
     "execution_count": 39,
     "metadata": {},
     "output_type": "execute_result"
    }
   ],
   "source": [
    "example_batch = normed_train_ds[:10]\n",
    "example_batch.head()"
   ]
  },
  {
   "cell_type": "code",
   "execution_count": 40,
   "metadata": {},
   "outputs": [
    {
     "data": {
      "text/plain": [
       "array([[-0.40077108],\n",
       "       [-0.30998588],\n",
       "       [-0.38441843],\n",
       "       [-0.06424193],\n",
       "       [-0.24009736],\n",
       "       [-0.07442114],\n",
       "       [-0.47878796],\n",
       "       [-0.24009736],\n",
       "       [-0.06424193],\n",
       "       [-0.17555092]], dtype=float32)"
      ]
     },
     "execution_count": 40,
     "metadata": {},
     "output_type": "execute_result"
    }
   ],
   "source": [
    "example_result = model.predict(example_batch)\n",
    "example_result"
   ]
  },
  {
   "cell_type": "code",
   "execution_count": null,
   "metadata": {},
   "outputs": [],
   "source": []
  },
  {
   "cell_type": "markdown",
   "metadata": {},
   "source": [
    "# Train the model\n",
    "Train the model for 1000 epochs and record the training and validation accuracy in the history object."
   ]
  },
  {
   "cell_type": "code",
   "execution_count": 63,
   "metadata": {},
   "outputs": [],
   "source": [
    "%%bash\n",
    "# clear any logs from previous runs\n",
    "rm -rf ./${LOG_DIR_NAME}"
   ]
  },
  {
   "cell_type": "code",
   "execution_count": 48,
   "metadata": {},
   "outputs": [
    {
     "data": {
      "text/plain": [
       "Reusing TensorBoard on port 6006 (pid 1333), started -1 day, 23:03:38 ago. (Use '!kill 1333' to kill it.)"
      ]
     },
     "metadata": {},
     "output_type": "display_data"
    },
    {
     "data": {
      "text/html": [
       "\n",
       "        <iframe\n",
       "            width=\"100%\"\n",
       "            height=\"800\"\n",
       "            src=\"http://localhost:6006\"\n",
       "            frameborder=\"0\"\n",
       "            allowfullscreen\n",
       "        ></iframe>\n",
       "        "
      ],
      "text/plain": [
       "<IPython.lib.display.IFrame at 0x1a341aa358>"
      ]
     },
     "metadata": {},
     "output_type": "display_data"
    }
   ],
   "source": [
    "%tensorboard --logdir logs"
   ]
  },
  {
   "cell_type": "code",
   "execution_count": 64,
   "metadata": {},
   "outputs": [],
   "source": [
    "# Display training progress by printing a single dot for each completed epoch\n",
    "class PrintDot(keras.callbacks.Callback):\n",
    "  def on_epoch_end(self, epoch, logs):\n",
    "    if epoch % 100 == 0: print('')\n",
    "    print('.', end='')"
   ]
  },
  {
   "cell_type": "code",
   "execution_count": 65,
   "metadata": {},
   "outputs": [
    {
     "name": "stdout",
     "output_type": "stream",
     "text": [
      "logs/20190505-144629\n"
     ]
    }
   ],
   "source": [
    "EPOCHS = 1000\n",
    "\n",
    "logdir = os.path.join(LOG_DIR_NAME, datetime.datetime.now().strftime(\"%Y%m%d-%H%M%S\"))\n",
    "tensorboard_callback = tf.keras.callbacks.TensorBoard(logdir, histogram_freq=1)\n",
    "print(logdir)"
   ]
  },
  {
   "cell_type": "markdown",
   "metadata": {},
   "source": [
    "I can either train this model using a tensorflow callback or the print doc callback.  If I put in a list, \n",
    "it does not seem to call both."
   ]
  },
  {
   "cell_type": "markdown",
   "metadata": {},
   "source": [
    "## Tensorboard callback version"
   ]
  },
  {
   "cell_type": "code",
   "execution_count": 52,
   "metadata": {},
   "outputs": [],
   "source": [
    "history = model.fit(normed_train_ds, \n",
    "                    train_labels,\n",
    "                    epochs=EPOCHS, \n",
    "                    validation_split = 0.2, \n",
    "                    verbose=0,\n",
    "                    callbacks=[tensorboard_callback])"
   ]
  },
  {
   "cell_type": "code",
   "execution_count": 53,
   "metadata": {},
   "outputs": [
    {
     "name": "stdout",
     "output_type": "stream",
     "text": [
      "kill: 1359: No such process\r\n"
     ]
    }
   ],
   "source": [
    "\n",
    "# clear any tensorboards if they are running\n",
    "# this will kill the processes for Tensorboard\n",
    "!ps aux | grep tensorboard | awk '{print $2}' | xargs kill"
   ]
  },
  {
   "cell_type": "code",
   "execution_count": null,
   "metadata": {},
   "outputs": [],
   "source": []
  },
  {
   "cell_type": "markdown",
   "metadata": {},
   "source": [
    "## PrintDot callback version"
   ]
  },
  {
   "cell_type": "code",
   "execution_count": 66,
   "metadata": {},
   "outputs": [
    {
     "name": "stdout",
     "output_type": "stream",
     "text": [
      "\n",
      "....................................................................................................\n",
      "....................................................................................................\n",
      "....................................................................................................\n",
      "....................................................................................................\n",
      "....................................................................................................\n",
      "....................................................................................................\n",
      "....................................................................................................\n",
      "....................................................................................................\n",
      "....................................................................................................\n",
      "...................................................................................................."
     ]
    }
   ],
   "source": [
    "# The author is printing dots rather than the regular output. Interesting.\n",
    "# Also, the author is saving the result of model.fit and then loads the history portion\n",
    "# into a dataframe later\n",
    "history = model.fit(normed_train_ds, \n",
    "                    train_labels,\n",
    "                    epochs=EPOCHS, \n",
    "                    validation_split = 0.2, \n",
    "                    verbose=0,\n",
    "                    callbacks=[PrintDot()])"
   ]
  },
  {
   "cell_type": "code",
   "execution_count": null,
   "metadata": {},
   "outputs": [],
   "source": []
  },
  {
   "cell_type": "markdown",
   "metadata": {},
   "source": [
    "Visualize the models training progress using the stats sotred in the `history` object"
   ]
  },
  {
   "cell_type": "code",
   "execution_count": 67,
   "metadata": {},
   "outputs": [
    {
     "data": {
      "text/html": [
       "<div>\n",
       "<style scoped>\n",
       "    .dataframe tbody tr th:only-of-type {\n",
       "        vertical-align: middle;\n",
       "    }\n",
       "\n",
       "    .dataframe tbody tr th {\n",
       "        vertical-align: top;\n",
       "    }\n",
       "\n",
       "    .dataframe thead th {\n",
       "        text-align: right;\n",
       "    }\n",
       "</style>\n",
       "<table border=\"1\" class=\"dataframe\">\n",
       "  <thead>\n",
       "    <tr style=\"text-align: right;\">\n",
       "      <th></th>\n",
       "      <th>loss</th>\n",
       "      <th>mean_absolute_error</th>\n",
       "      <th>mean_squared_error</th>\n",
       "      <th>val_loss</th>\n",
       "      <th>val_mean_absolute_error</th>\n",
       "      <th>val_mean_squared_error</th>\n",
       "      <th>epoch</th>\n",
       "    </tr>\n",
       "  </thead>\n",
       "  <tbody>\n",
       "    <tr>\n",
       "      <th>995</th>\n",
       "      <td>1.843055</td>\n",
       "      <td>0.717731</td>\n",
       "      <td>1.843055</td>\n",
       "      <td>1.289347</td>\n",
       "      <td>0.669901</td>\n",
       "      <td>1.289347</td>\n",
       "      <td>995</td>\n",
       "    </tr>\n",
       "    <tr>\n",
       "      <th>996</th>\n",
       "      <td>1.826387</td>\n",
       "      <td>0.721598</td>\n",
       "      <td>1.826388</td>\n",
       "      <td>1.487040</td>\n",
       "      <td>0.687512</td>\n",
       "      <td>1.487040</td>\n",
       "      <td>996</td>\n",
       "    </tr>\n",
       "    <tr>\n",
       "      <th>997</th>\n",
       "      <td>1.840406</td>\n",
       "      <td>0.720844</td>\n",
       "      <td>1.840407</td>\n",
       "      <td>1.283835</td>\n",
       "      <td>0.654547</td>\n",
       "      <td>1.283835</td>\n",
       "      <td>997</td>\n",
       "    </tr>\n",
       "    <tr>\n",
       "      <th>998</th>\n",
       "      <td>1.843202</td>\n",
       "      <td>0.722774</td>\n",
       "      <td>1.843201</td>\n",
       "      <td>1.263364</td>\n",
       "      <td>0.637662</td>\n",
       "      <td>1.263364</td>\n",
       "      <td>998</td>\n",
       "    </tr>\n",
       "    <tr>\n",
       "      <th>999</th>\n",
       "      <td>1.805932</td>\n",
       "      <td>0.718521</td>\n",
       "      <td>1.805933</td>\n",
       "      <td>1.429235</td>\n",
       "      <td>0.661890</td>\n",
       "      <td>1.429235</td>\n",
       "      <td>999</td>\n",
       "    </tr>\n",
       "  </tbody>\n",
       "</table>\n",
       "</div>"
      ],
      "text/plain": [
       "         loss  mean_absolute_error  mean_squared_error  val_loss  \\\n",
       "995  1.843055             0.717731            1.843055  1.289347   \n",
       "996  1.826387             0.721598            1.826388  1.487040   \n",
       "997  1.840406             0.720844            1.840407  1.283835   \n",
       "998  1.843202             0.722774            1.843201  1.263364   \n",
       "999  1.805932             0.718521            1.805933  1.429235   \n",
       "\n",
       "     val_mean_absolute_error  val_mean_squared_error  epoch  \n",
       "995                 0.669901                1.289347    995  \n",
       "996                 0.687512                1.487040    996  \n",
       "997                 0.654547                1.283835    997  \n",
       "998                 0.637662                1.263364    998  \n",
       "999                 0.661890                1.429235    999  "
      ]
     },
     "execution_count": 67,
     "metadata": {},
     "output_type": "execute_result"
    }
   ],
   "source": [
    "hist = pd.DataFrame(history.history)\n",
    "hist['epoch'] = history.epoch\n",
    "hist.tail()"
   ]
  },
  {
   "cell_type": "code",
   "execution_count": null,
   "metadata": {},
   "outputs": [],
   "source": []
  },
  {
   "cell_type": "code",
   "execution_count": null,
   "metadata": {},
   "outputs": [],
   "source": []
  },
  {
   "cell_type": "code",
   "execution_count": 68,
   "metadata": {},
   "outputs": [
    {
     "data": {
      "image/png": "[encoded data removed]",
      "text/plain": [
       "<Figure size 432x288 with 1 Axes>"
      ]
     },
     "metadata": {
      "needs_background": "light"
     },
     "output_type": "display_data"
    },
    {
     "data": {
      "image/png": "[encoded data removed]",
      "text/plain": [
       "<Figure size 432x288 with 1 Axes>"
      ]
     },
     "metadata": {
      "needs_background": "light"
     },
     "output_type": "display_data"
    }
   ],
   "source": [
    "def plot_history(history):\n",
    "  hist = pd.DataFrame(history.history)\n",
    "  hist['epoch'] = history.epoch\n",
    "  \n",
    "  plt.figure()\n",
    "  plt.xlabel('Epoch')\n",
    "  plt.ylabel('Mean Abs Error [Tidal_high]')\n",
    "  plt.plot(hist['epoch'], hist['mean_absolute_error'],label='Train Error')\n",
    "  plt.plot(hist['epoch'], hist['val_mean_absolute_error'],label = 'Val Error')\n",
    "  plt.ylim([0,5])\n",
    "  plt.legend()\n",
    "  \n",
    "  plt.figure()\n",
    "  plt.xlabel('Epoch')\n",
    "  plt.ylabel('Mean Square Error [$Tidal_high^2$]')\n",
    "  plt.plot(hist['epoch'], hist['mean_squared_error'],label='Train Error')\n",
    "  plt.plot(hist['epoch'], hist['val_mean_squared_error'],label = 'Val Error')\n",
    "  plt.ylim([0,20])\n",
    "  plt.legend()\n",
    "  plt.show()\n",
    "\n",
    "\n",
    "plot_history(history)"
   ]
  },
  {
   "cell_type": "code",
   "execution_count": null,
   "metadata": {},
   "outputs": [],
   "source": []
  },
  {
   "cell_type": "code",
   "execution_count": null,
   "metadata": {},
   "outputs": [],
   "source": []
  }
 ],
 "metadata": {
  "kernelspec": {
   "display_name": "Python 3",
   "language": "python",
   "name": "python3"
  },
  "language_info": {
   "codemirror_mode": {
    "name": "ipython",
    "version": 3
   },
   "file_extension": ".py",
   "mimetype": "text/x-python",
   "name": "python",
   "nbconvert_exporter": "python",
   "pygments_lexer": "ipython3",
   "version": "3.7.3"
  }
 },
 "nbformat": 4,
 "nbformat_minor": 2
}
