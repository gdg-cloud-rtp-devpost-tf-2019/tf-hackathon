{
 "cells": [
  {
   "cell_type": "code",
   "execution_count": 28,
   "metadata": {},
   "outputs": [],
   "source": [
    "import ogr, osr\n",
    "import gmaps\n",
    "import gmaps.datasets\n",
    "import os"
   ]
  },
  {
   "cell_type": "code",
   "execution_count": 29,
   "metadata": {},
   "outputs": [],
   "source": [
    "gmaps.configure(api_key=os.environ[\"GOOGLE_MAPS_API_KEY\"])"
   ]
  },
  {
   "cell_type": "markdown",
   "metadata": {},
   "source": [
    "# Read the station ids, lat, lon from the combined csv"
   ]
  },
  {
   "cell_type": "code",
   "execution_count": 30,
   "metadata": {},
   "outputs": [],
   "source": [
    "import pandas as pd\n",
    "df = pd.read_csv(\"../csv/usgs_gsvb_v1.csv\")"
   ]
  },
  {
   "cell_type": "code",
   "execution_count": 31,
   "metadata": {},
   "outputs": [
    {
     "data": {
      "text/html": [
       "<div>\n",
       "<style scoped>\n",
       "    .dataframe tbody tr th:only-of-type {\n",
       "        vertical-align: middle;\n",
       "    }\n",
       "\n",
       "    .dataframe tbody tr th {\n",
       "        vertical-align: top;\n",
       "    }\n",
       "\n",
       "    .dataframe thead th {\n",
       "        text-align: right;\n",
       "    }\n",
       "</style>\n",
       "<table border=\"1\" class=\"dataframe\">\n",
       "  <thead>\n",
       "    <tr style=\"text-align: right;\">\n",
       "      <th></th>\n",
       "      <th>usgs</th>\n",
       "      <th>site_no</th>\n",
       "      <th>date_field</th>\n",
       "      <th>tidal_high</th>\n",
       "      <th>tidal_low</th>\n",
       "      <th>precipitation_inches</th>\n",
       "      <th>lat</th>\n",
       "      <th>long</th>\n",
       "    </tr>\n",
       "  </thead>\n",
       "  <tbody>\n",
       "    <tr>\n",
       "      <th>0</th>\n",
       "      <td>USGS</td>\n",
       "      <td>2043155</td>\n",
       "      <td>2016-06-14</td>\n",
       "      <td>NaN</td>\n",
       "      <td>NaN</td>\n",
       "      <td>NaN</td>\n",
       "      <td>36.788361</td>\n",
       "      <td>-75.929222</td>\n",
       "    </tr>\n",
       "    <tr>\n",
       "      <th>1</th>\n",
       "      <td>USGS</td>\n",
       "      <td>2043155</td>\n",
       "      <td>2018-03-15</td>\n",
       "      <td>NaN</td>\n",
       "      <td>NaN</td>\n",
       "      <td>NaN</td>\n",
       "      <td>36.788361</td>\n",
       "      <td>-75.929222</td>\n",
       "    </tr>\n",
       "    <tr>\n",
       "      <th>2</th>\n",
       "      <td>USGS</td>\n",
       "      <td>2043155</td>\n",
       "      <td>2016-10-10</td>\n",
       "      <td>NaN</td>\n",
       "      <td>NaN</td>\n",
       "      <td>NaN</td>\n",
       "      <td>36.788361</td>\n",
       "      <td>-75.929222</td>\n",
       "    </tr>\n",
       "    <tr>\n",
       "      <th>3</th>\n",
       "      <td>USGS</td>\n",
       "      <td>2043155</td>\n",
       "      <td>2016-10-09</td>\n",
       "      <td>7.02</td>\n",
       "      <td>NaN</td>\n",
       "      <td>NaN</td>\n",
       "      <td>36.788361</td>\n",
       "      <td>-75.929222</td>\n",
       "    </tr>\n",
       "    <tr>\n",
       "      <th>4</th>\n",
       "      <td>USGS</td>\n",
       "      <td>2043155</td>\n",
       "      <td>2016-09-22</td>\n",
       "      <td>4.55</td>\n",
       "      <td>NaN</td>\n",
       "      <td>NaN</td>\n",
       "      <td>36.788361</td>\n",
       "      <td>-75.929222</td>\n",
       "    </tr>\n",
       "  </tbody>\n",
       "</table>\n",
       "</div>"
      ],
      "text/plain": [
       "   usgs  site_no  date_field  tidal_high  tidal_low  precipitation_inches  \\\n",
       "0  USGS  2043155  2016-06-14         NaN        NaN                   NaN   \n",
       "1  USGS  2043155  2018-03-15         NaN        NaN                   NaN   \n",
       "2  USGS  2043155  2016-10-10         NaN        NaN                   NaN   \n",
       "3  USGS  2043155  2016-10-09        7.02        NaN                   NaN   \n",
       "4  USGS  2043155  2016-09-22        4.55        NaN                   NaN   \n",
       "\n",
       "         lat       long  \n",
       "0  36.788361 -75.929222  \n",
       "1  36.788361 -75.929222  \n",
       "2  36.788361 -75.929222  \n",
       "3  36.788361 -75.929222  \n",
       "4  36.788361 -75.929222  "
      ]
     },
     "execution_count": 31,
     "metadata": {},
     "output_type": "execute_result"
    }
   ],
   "source": [
    "df.head()"
   ]
  },
  {
   "cell_type": "markdown",
   "metadata": {},
   "source": [
    "## Dump the lat longs for the two station types"
   ]
  },
  {
   "cell_type": "code",
   "execution_count": 37,
   "metadata": {},
   "outputs": [
    {
     "data": {
      "text/html": [
       "<div>\n",
       "<style scoped>\n",
       "    .dataframe tbody tr th:only-of-type {\n",
       "        vertical-align: middle;\n",
       "    }\n",
       "\n",
       "    .dataframe tbody tr th {\n",
       "        vertical-align: top;\n",
       "    }\n",
       "\n",
       "    .dataframe thead th {\n",
       "        text-align: right;\n",
       "    }\n",
       "</style>\n",
       "<table border=\"1\" class=\"dataframe\">\n",
       "  <thead>\n",
       "    <tr style=\"text-align: right;\">\n",
       "      <th></th>\n",
       "      <th>site_no</th>\n",
       "      <th>lat</th>\n",
       "      <th>long</th>\n",
       "    </tr>\n",
       "  </thead>\n",
       "  <tbody>\n",
       "    <tr>\n",
       "      <th>0</th>\n",
       "      <td>2043155</td>\n",
       "      <td>36.788361</td>\n",
       "      <td>-75.929222</td>\n",
       "    </tr>\n",
       "    <tr>\n",
       "      <th>1073</th>\n",
       "      <td>204297575</td>\n",
       "      <td>36.824778</td>\n",
       "      <td>-74.014750</td>\n",
       "    </tr>\n",
       "    <tr>\n",
       "      <th>2156</th>\n",
       "      <td>204300267</td>\n",
       "      <td>36.679806</td>\n",
       "      <td>-74.016000</td>\n",
       "    </tr>\n",
       "    <tr>\n",
       "      <th>3233</th>\n",
       "      <td>2042928</td>\n",
       "      <td>36.815778</td>\n",
       "      <td>-75.939083</td>\n",
       "    </tr>\n",
       "    <tr>\n",
       "      <th>3626</th>\n",
       "      <td>204293125</td>\n",
       "      <td>36.841139</td>\n",
       "      <td>-75.942861</td>\n",
       "    </tr>\n",
       "    <tr>\n",
       "      <th>4702</th>\n",
       "      <td>204295505</td>\n",
       "      <td>36.859278</td>\n",
       "      <td>-74.015528</td>\n",
       "    </tr>\n",
       "    <tr>\n",
       "      <th>5782</th>\n",
       "      <td>204291317</td>\n",
       "      <td>36.843306</td>\n",
       "      <td>-75.875528</td>\n",
       "    </tr>\n",
       "    <tr>\n",
       "      <th>6855</th>\n",
       "      <td>204288721</td>\n",
       "      <td>36.827222</td>\n",
       "      <td>-75.834444</td>\n",
       "    </tr>\n",
       "    <tr>\n",
       "      <th>7930</th>\n",
       "      <td>204288539</td>\n",
       "      <td>36.711694</td>\n",
       "      <td>-75.731778</td>\n",
       "    </tr>\n",
       "  </tbody>\n",
       "</table>\n",
       "</div>"
      ],
      "text/plain": [
       "        site_no        lat       long\n",
       "0       2043155  36.788361 -75.929222\n",
       "1073  204297575  36.824778 -74.014750\n",
       "2156  204300267  36.679806 -74.016000\n",
       "3233    2042928  36.815778 -75.939083\n",
       "3626  204293125  36.841139 -75.942861\n",
       "4702  204295505  36.859278 -74.015528\n",
       "5782  204291317  36.843306 -75.875528\n",
       "6855  204288721  36.827222 -75.834444\n",
       "7930  204288539  36.711694 -75.731778"
      ]
     },
     "execution_count": 37,
     "metadata": {},
     "output_type": "execute_result"
    }
   ],
   "source": [
    "# The USGS stations\n",
    "df.loc[df.usgs =='USGS'][['site_no','lat', 'long']].drop_duplicates()"
   ]
  },
  {
   "cell_type": "code",
   "execution_count": 39,
   "metadata": {},
   "outputs": [],
   "source": [
    "df1 = df.loc[df.usgs =='USGS'][['lat', 'long']].drop_duplicates()"
   ]
  },
  {
   "cell_type": "code",
   "execution_count": 40,
   "metadata": {},
   "outputs": [
    {
     "data": {
      "text/html": [
       "<div>\n",
       "<style scoped>\n",
       "    .dataframe tbody tr th:only-of-type {\n",
       "        vertical-align: middle;\n",
       "    }\n",
       "\n",
       "    .dataframe tbody tr th {\n",
       "        vertical-align: top;\n",
       "    }\n",
       "\n",
       "    .dataframe thead th {\n",
       "        text-align: right;\n",
       "    }\n",
       "</style>\n",
       "<table border=\"1\" class=\"dataframe\">\n",
       "  <thead>\n",
       "    <tr style=\"text-align: right;\">\n",
       "      <th></th>\n",
       "      <th>site_no</th>\n",
       "      <th>lat</th>\n",
       "      <th>long</th>\n",
       "    </tr>\n",
       "  </thead>\n",
       "  <tbody>\n",
       "    <tr>\n",
       "      <th>9024</th>\n",
       "      <td>33670001</td>\n",
       "      <td>36.735303</td>\n",
       "      <td>-76.011602</td>\n",
       "    </tr>\n",
       "    <tr>\n",
       "      <th>9129</th>\n",
       "      <td>33670002</td>\n",
       "      <td>36.903520</td>\n",
       "      <td>-76.095700</td>\n",
       "    </tr>\n",
       "    <tr>\n",
       "      <th>9234</th>\n",
       "      <td>33670003</td>\n",
       "      <td>36.852003</td>\n",
       "      <td>-76.288563</td>\n",
       "    </tr>\n",
       "    <tr>\n",
       "      <th>9326</th>\n",
       "      <td>33670004</td>\n",
       "      <td>36.692700</td>\n",
       "      <td>-75.926380</td>\n",
       "    </tr>\n",
       "    <tr>\n",
       "      <th>9431</th>\n",
       "      <td>33670005</td>\n",
       "      <td>36.731694</td>\n",
       "      <td>-75.984772</td>\n",
       "    </tr>\n",
       "    <tr>\n",
       "      <th>9536</th>\n",
       "      <td>33670006</td>\n",
       "      <td>36.709480</td>\n",
       "      <td>-75.988400</td>\n",
       "    </tr>\n",
       "    <tr>\n",
       "      <th>9628</th>\n",
       "      <td>33670007</td>\n",
       "      <td>36.581990</td>\n",
       "      <td>-76.039840</td>\n",
       "    </tr>\n",
       "    <tr>\n",
       "      <th>9733</th>\n",
       "      <td>33670008</td>\n",
       "      <td>36.856380</td>\n",
       "      <td>-76.290740</td>\n",
       "    </tr>\n",
       "    <tr>\n",
       "      <th>9770</th>\n",
       "      <td>33670009</td>\n",
       "      <td>36.721170</td>\n",
       "      <td>-76.033590</td>\n",
       "    </tr>\n",
       "  </tbody>\n",
       "</table>\n",
       "</div>"
      ],
      "text/plain": [
       "       site_no        lat       long\n",
       "9024  33670001  36.735303 -76.011602\n",
       "9129  33670002  36.903520 -76.095700\n",
       "9234  33670003  36.852003 -76.288563\n",
       "9326  33670004  36.692700 -75.926380\n",
       "9431  33670005  36.731694 -75.984772\n",
       "9536  33670006  36.709480 -75.988400\n",
       "9628  33670007  36.581990 -76.039840\n",
       "9733  33670008  36.856380 -76.290740\n",
       "9770  33670009  36.721170 -76.033590"
      ]
     },
     "execution_count": 40,
     "metadata": {},
     "output_type": "execute_result"
    }
   ],
   "source": [
    "# The Greenstream Virginia Beach stations\n",
    "df.loc[df.usgs =='GSVB'][['site_no','lat', 'long']].drop_duplicates()"
   ]
  },
  {
   "cell_type": "code",
   "execution_count": 41,
   "metadata": {},
   "outputs": [],
   "source": [
    "# The Greenstream Virginia Beach stations\n",
    "df2 = df.loc[df.usgs =='GSVB'][['lat', 'long']].drop_duplicates()"
   ]
  },
  {
   "cell_type": "code",
   "execution_count": 42,
   "metadata": {},
   "outputs": [
    {
     "data": {
      "text/plain": [
       "[(36.735303, -76.011602),\n",
       " (36.90352, -76.0957),\n",
       " (36.8520027, -76.28856309999999),\n",
       " (36.6927, -75.92638000000001),\n",
       " (36.731694, -75.98477199999999),\n",
       " (36.70948, -75.9884),\n",
       " (36.581990000000005, -76.03984),\n",
       " (36.85638, -76.29074),\n",
       " (36.72117, -76.03359)]"
      ]
     },
     "execution_count": 42,
     "metadata": {},
     "output_type": "execute_result"
    }
   ],
   "source": [
    "# generate a list of tuples, from a dataframe\n",
    "[tuple(x) for x in df2.values]"
   ]
  },
  {
   "cell_type": "code",
   "execution_count": 43,
   "metadata": {},
   "outputs": [
    {
     "data": {
      "application/vnd.jupyter.widget-view+json": {
       "model_id": "a00be179e6a2449f9672fb1003801ce8",
       "version_major": 2,
       "version_minor": 0
      },
      "text/plain": [
       "Figure(layout=FigureLayout(height='420px'))"
      ]
     },
     "metadata": {},
     "output_type": "display_data"
    }
   ],
   "source": [
    "fig = gmaps.figure()\n",
    "\n",
    "usgs_locations = [tuple(x) for x in df1.values]\n",
    "gsvb_locations = [tuple(x) for x in df2.values]\n",
    "\n",
    "fig = gmaps.figure(center=(36.0, -75.0), zoom_level=8)\n",
    "fig = gmaps.figure(layout={\n",
    "        'width': '400px',\n",
    "        'height': '600px',\n",
    "        'padding': '3px',\n",
    "        'border': '1px solid black'\n",
    "})\n",
    "# give ablitly to turn on satelite\n",
    "fig = gmaps.figure(map_type='HYBRID')\n",
    "\n",
    "# show usgs stations as blue dots\n",
    "usgs_stations_layer = gmaps.symbol_layer(\n",
    "    usgs_locations, fill_color=\"blue\", stroke_color=\"blue\", scale=2\n",
    ")\n",
    "# show GSVB stations as green dots\n",
    "gsvb_stations_layer = gmaps.symbol_layer(\n",
    "    gsvb_locations, fill_color=\"green\", stroke_color=\"green\", scale=2\n",
    ")\n",
    "\n",
    "fig = gmaps.figure()\n",
    "fig.add_layer(usgs_stations_layer)\n",
    "fig.add_layer(gsvb_stations_layer)\n",
    "\n",
    "\n",
    "fig"
   ]
  },
  {
   "cell_type": "code",
   "execution_count": 44,
   "metadata": {},
   "outputs": [],
   "source": [
    "#omg the usgs ones are still messed up."
   ]
  },
  {
   "cell_type": "code",
   "execution_count": null,
   "metadata": {},
   "outputs": [],
   "source": []
  }
 ],
 "metadata": {
  "kernelspec": {
   "display_name": "Python 3",
   "language": "python",
   "name": "python3"
  },
  "language_info": {
   "codemirror_mode": {
    "name": "ipython",
    "version": 3
   },
   "file_extension": ".py",
   "mimetype": "text/x-python",
   "name": "python",
   "nbconvert_exporter": "python",
   "pygments_lexer": "ipython3",
   "version": "3.7.2"
  }
 },
 "nbformat": 4,
 "nbformat_minor": 2
}
