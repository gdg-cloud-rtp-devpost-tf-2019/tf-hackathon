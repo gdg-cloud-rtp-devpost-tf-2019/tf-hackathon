{
 "cells": [
  {
   "cell_type": "code",
   "execution_count": 24,
   "metadata": {},
   "outputs": [],
   "source": [
    "import ogr, osr\n",
    "import gmaps\n",
    "import gmaps.datasets\n",
    "import os\n",
    "import numpy as np"
   ]
  },
  {
   "cell_type": "code",
   "execution_count": 2,
   "metadata": {},
   "outputs": [],
   "source": [
    "gmaps.configure(api_key=os.environ[\"GOOGLE_MAPS_API_KEY\"])"
   ]
  },
  {
   "cell_type": "markdown",
   "metadata": {},
   "source": [
    "# Read the station ids, lat, lon from the combined csv"
   ]
  },
  {
   "cell_type": "code",
   "execution_count": 3,
   "metadata": {},
   "outputs": [],
   "source": [
    "import pandas as pd\n",
    "df = pd.read_csv(\"../csv/usgs_gsvb_v2.csv\")"
   ]
  },
  {
   "cell_type": "code",
   "execution_count": 4,
   "metadata": {},
   "outputs": [
    {
     "data": {
      "text/html": [
       "<div>\n",
       "<style scoped>\n",
       "    .dataframe tbody tr th:only-of-type {\n",
       "        vertical-align: middle;\n",
       "    }\n",
       "\n",
       "    .dataframe tbody tr th {\n",
       "        vertical-align: top;\n",
       "    }\n",
       "\n",
       "    .dataframe thead th {\n",
       "        text-align: right;\n",
       "    }\n",
       "</style>\n",
       "<table border=\"1\" class=\"dataframe\">\n",
       "  <thead>\n",
       "    <tr style=\"text-align: right;\">\n",
       "      <th></th>\n",
       "      <th>usgs</th>\n",
       "      <th>site_no</th>\n",
       "      <th>date</th>\n",
       "      <th>tidal_high</th>\n",
       "      <th>tidal_low</th>\n",
       "      <th>precipitation_inches</th>\n",
       "      <th>lat</th>\n",
       "      <th>long</th>\n",
       "    </tr>\n",
       "  </thead>\n",
       "  <tbody>\n",
       "    <tr>\n",
       "      <th>0</th>\n",
       "      <td>GSVB</td>\n",
       "      <td>33670001</td>\n",
       "      <td>2019-03-08</td>\n",
       "      <td>-6.791339</td>\n",
       "      <td>-6.725722</td>\n",
       "      <td>NaN</td>\n",
       "      <td>36.735303</td>\n",
       "      <td>-76.011602</td>\n",
       "    </tr>\n",
       "    <tr>\n",
       "      <th>1</th>\n",
       "      <td>GSVB</td>\n",
       "      <td>33670001</td>\n",
       "      <td>2019-03-19</td>\n",
       "      <td>-6.856955</td>\n",
       "      <td>-6.758530</td>\n",
       "      <td>NaN</td>\n",
       "      <td>36.735303</td>\n",
       "      <td>-76.011602</td>\n",
       "    </tr>\n",
       "    <tr>\n",
       "      <th>2</th>\n",
       "      <td>GSVB</td>\n",
       "      <td>33670001</td>\n",
       "      <td>2019-02-21</td>\n",
       "      <td>1.935696</td>\n",
       "      <td>2.132546</td>\n",
       "      <td>NaN</td>\n",
       "      <td>36.735303</td>\n",
       "      <td>-76.011602</td>\n",
       "    </tr>\n",
       "    <tr>\n",
       "      <th>3</th>\n",
       "      <td>GSVB</td>\n",
       "      <td>33670001</td>\n",
       "      <td>2019-03-11</td>\n",
       "      <td>-6.660105</td>\n",
       "      <td>-6.430446</td>\n",
       "      <td>NaN</td>\n",
       "      <td>36.735303</td>\n",
       "      <td>-76.011602</td>\n",
       "    </tr>\n",
       "    <tr>\n",
       "      <th>4</th>\n",
       "      <td>GSVB</td>\n",
       "      <td>33670001</td>\n",
       "      <td>2019-04-04</td>\n",
       "      <td>1.902887</td>\n",
       "      <td>2.066929</td>\n",
       "      <td>NaN</td>\n",
       "      <td>36.735303</td>\n",
       "      <td>-76.011602</td>\n",
       "    </tr>\n",
       "  </tbody>\n",
       "</table>\n",
       "</div>"
      ],
      "text/plain": [
       "   usgs   site_no        date  tidal_high  tidal_low  precipitation_inches  \\\n",
       "0  GSVB  33670001  2019-03-08   -6.791339  -6.725722                   NaN   \n",
       "1  GSVB  33670001  2019-03-19   -6.856955  -6.758530                   NaN   \n",
       "2  GSVB  33670001  2019-02-21    1.935696   2.132546                   NaN   \n",
       "3  GSVB  33670001  2019-03-11   -6.660105  -6.430446                   NaN   \n",
       "4  GSVB  33670001  2019-04-04    1.902887   2.066929                   NaN   \n",
       "\n",
       "         lat       long  \n",
       "0  36.735303 -76.011602  \n",
       "1  36.735303 -76.011602  \n",
       "2  36.735303 -76.011602  \n",
       "3  36.735303 -76.011602  \n",
       "4  36.735303 -76.011602  "
      ]
     },
     "execution_count": 4,
     "metadata": {},
     "output_type": "execute_result"
    }
   ],
   "source": [
    "df.head()"
   ]
  },
  {
   "cell_type": "markdown",
   "metadata": {},
   "source": [
    "## Dump the lat longs for the two station types"
   ]
  },
  {
   "cell_type": "code",
   "execution_count": 5,
   "metadata": {},
   "outputs": [
    {
     "data": {
      "text/html": [
       "<div>\n",
       "<style scoped>\n",
       "    .dataframe tbody tr th:only-of-type {\n",
       "        vertical-align: middle;\n",
       "    }\n",
       "\n",
       "    .dataframe tbody tr th {\n",
       "        vertical-align: top;\n",
       "    }\n",
       "\n",
       "    .dataframe thead th {\n",
       "        text-align: right;\n",
       "    }\n",
       "</style>\n",
       "<table border=\"1\" class=\"dataframe\">\n",
       "  <thead>\n",
       "    <tr style=\"text-align: right;\">\n",
       "      <th></th>\n",
       "      <th>site_no</th>\n",
       "      <th>lat</th>\n",
       "      <th>long</th>\n",
       "    </tr>\n",
       "  </thead>\n",
       "  <tbody>\n",
       "    <tr>\n",
       "      <th>851</th>\n",
       "      <td>204293125</td>\n",
       "      <td>36.841139</td>\n",
       "      <td>-76.057139</td>\n",
       "    </tr>\n",
       "    <tr>\n",
       "      <th>1077</th>\n",
       "      <td>204295505</td>\n",
       "      <td>36.859278</td>\n",
       "      <td>-75.984472</td>\n",
       "    </tr>\n",
       "    <tr>\n",
       "      <th>1311</th>\n",
       "      <td>204297575</td>\n",
       "      <td>36.824778</td>\n",
       "      <td>-75.985250</td>\n",
       "    </tr>\n",
       "    <tr>\n",
       "      <th>1540</th>\n",
       "      <td>204288721</td>\n",
       "      <td>36.827222</td>\n",
       "      <td>-76.165556</td>\n",
       "    </tr>\n",
       "    <tr>\n",
       "      <th>1764</th>\n",
       "      <td>204300267</td>\n",
       "      <td>36.679806</td>\n",
       "      <td>-75.984000</td>\n",
       "    </tr>\n",
       "    <tr>\n",
       "      <th>2745</th>\n",
       "      <td>204291317</td>\n",
       "      <td>36.843306</td>\n",
       "      <td>-76.124472</td>\n",
       "    </tr>\n",
       "    <tr>\n",
       "      <th>3025</th>\n",
       "      <td>2043155</td>\n",
       "      <td>36.788361</td>\n",
       "      <td>-76.070778</td>\n",
       "    </tr>\n",
       "    <tr>\n",
       "      <th>4098</th>\n",
       "      <td>204288539</td>\n",
       "      <td>36.711694</td>\n",
       "      <td>-76.268222</td>\n",
       "    </tr>\n",
       "    <tr>\n",
       "      <th>5192</th>\n",
       "      <td>2042928</td>\n",
       "      <td>36.815778</td>\n",
       "      <td>-76.060917</td>\n",
       "    </tr>\n",
       "  </tbody>\n",
       "</table>\n",
       "</div>"
      ],
      "text/plain": [
       "        site_no        lat       long\n",
       "851   204293125  36.841139 -76.057139\n",
       "1077  204295505  36.859278 -75.984472\n",
       "1311  204297575  36.824778 -75.985250\n",
       "1540  204288721  36.827222 -76.165556\n",
       "1764  204300267  36.679806 -75.984000\n",
       "2745  204291317  36.843306 -76.124472\n",
       "3025    2043155  36.788361 -76.070778\n",
       "4098  204288539  36.711694 -76.268222\n",
       "5192    2042928  36.815778 -76.060917"
      ]
     },
     "execution_count": 5,
     "metadata": {},
     "output_type": "execute_result"
    }
   ],
   "source": [
    "# The USGS stations\n",
    "df.loc[df.usgs =='USGS'][['site_no','lat', 'long']].drop_duplicates()"
   ]
  },
  {
   "cell_type": "code",
   "execution_count": 12,
   "metadata": {},
   "outputs": [],
   "source": [
    "df1 = df.loc[df.usgs =='USGS'][['lat', 'long']].drop_duplicates()\n",
    "df1_names = df.loc[df.usgs =='USGS'][['site_no']].drop_duplicates()"
   ]
  },
  {
   "cell_type": "code",
   "execution_count": 18,
   "metadata": {},
   "outputs": [
    {
     "data": {
      "text/html": [
       "<div>\n",
       "<style scoped>\n",
       "    .dataframe tbody tr th:only-of-type {\n",
       "        vertical-align: middle;\n",
       "    }\n",
       "\n",
       "    .dataframe tbody tr th {\n",
       "        vertical-align: top;\n",
       "    }\n",
       "\n",
       "    .dataframe thead th {\n",
       "        text-align: right;\n",
       "    }\n",
       "</style>\n",
       "<table border=\"1\" class=\"dataframe\">\n",
       "  <thead>\n",
       "    <tr style=\"text-align: right;\">\n",
       "      <th></th>\n",
       "      <th>site_no</th>\n",
       "    </tr>\n",
       "  </thead>\n",
       "  <tbody>\n",
       "    <tr>\n",
       "      <th>851</th>\n",
       "      <td>204293125</td>\n",
       "    </tr>\n",
       "    <tr>\n",
       "      <th>1077</th>\n",
       "      <td>204295505</td>\n",
       "    </tr>\n",
       "    <tr>\n",
       "      <th>1311</th>\n",
       "      <td>204297575</td>\n",
       "    </tr>\n",
       "    <tr>\n",
       "      <th>1540</th>\n",
       "      <td>204288721</td>\n",
       "    </tr>\n",
       "    <tr>\n",
       "      <th>1764</th>\n",
       "      <td>204300267</td>\n",
       "    </tr>\n",
       "    <tr>\n",
       "      <th>2745</th>\n",
       "      <td>204291317</td>\n",
       "    </tr>\n",
       "    <tr>\n",
       "      <th>3025</th>\n",
       "      <td>2043155</td>\n",
       "    </tr>\n",
       "    <tr>\n",
       "      <th>4098</th>\n",
       "      <td>204288539</td>\n",
       "    </tr>\n",
       "    <tr>\n",
       "      <th>5192</th>\n",
       "      <td>2042928</td>\n",
       "    </tr>\n",
       "  </tbody>\n",
       "</table>\n",
       "</div>"
      ],
      "text/plain": [
       "        site_no\n",
       "851   204293125\n",
       "1077  204295505\n",
       "1311  204297575\n",
       "1540  204288721\n",
       "1764  204300267\n",
       "2745  204291317\n",
       "3025    2043155\n",
       "4098  204288539\n",
       "5192    2042928"
      ]
     },
     "execution_count": 18,
     "metadata": {},
     "output_type": "execute_result"
    }
   ],
   "source": [
    "df1_names"
   ]
  },
  {
   "cell_type": "code",
   "execution_count": 7,
   "metadata": {},
   "outputs": [
    {
     "data": {
      "text/html": [
       "<div>\n",
       "<style scoped>\n",
       "    .dataframe tbody tr th:only-of-type {\n",
       "        vertical-align: middle;\n",
       "    }\n",
       "\n",
       "    .dataframe tbody tr th {\n",
       "        vertical-align: top;\n",
       "    }\n",
       "\n",
       "    .dataframe thead th {\n",
       "        text-align: right;\n",
       "    }\n",
       "</style>\n",
       "<table border=\"1\" class=\"dataframe\">\n",
       "  <thead>\n",
       "    <tr style=\"text-align: right;\">\n",
       "      <th></th>\n",
       "      <th>site_no</th>\n",
       "      <th>lat</th>\n",
       "      <th>long</th>\n",
       "    </tr>\n",
       "  </thead>\n",
       "  <tbody>\n",
       "    <tr>\n",
       "      <th>0</th>\n",
       "      <td>33670001</td>\n",
       "      <td>36.735303</td>\n",
       "      <td>-76.011602</td>\n",
       "    </tr>\n",
       "    <tr>\n",
       "      <th>105</th>\n",
       "      <td>33670002</td>\n",
       "      <td>36.903520</td>\n",
       "      <td>-76.095700</td>\n",
       "    </tr>\n",
       "    <tr>\n",
       "      <th>210</th>\n",
       "      <td>33670003</td>\n",
       "      <td>36.852003</td>\n",
       "      <td>-76.288563</td>\n",
       "    </tr>\n",
       "    <tr>\n",
       "      <th>302</th>\n",
       "      <td>33670004</td>\n",
       "      <td>36.692700</td>\n",
       "      <td>-75.926380</td>\n",
       "    </tr>\n",
       "    <tr>\n",
       "      <th>407</th>\n",
       "      <td>33670005</td>\n",
       "      <td>36.731694</td>\n",
       "      <td>-75.984772</td>\n",
       "    </tr>\n",
       "    <tr>\n",
       "      <th>512</th>\n",
       "      <td>33670006</td>\n",
       "      <td>36.709480</td>\n",
       "      <td>-75.988400</td>\n",
       "    </tr>\n",
       "    <tr>\n",
       "      <th>604</th>\n",
       "      <td>33670007</td>\n",
       "      <td>36.581990</td>\n",
       "      <td>-76.039840</td>\n",
       "    </tr>\n",
       "    <tr>\n",
       "      <th>709</th>\n",
       "      <td>33670008</td>\n",
       "      <td>36.856380</td>\n",
       "      <td>-76.290740</td>\n",
       "    </tr>\n",
       "    <tr>\n",
       "      <th>746</th>\n",
       "      <td>33670009</td>\n",
       "      <td>36.721170</td>\n",
       "      <td>-76.033590</td>\n",
       "    </tr>\n",
       "  </tbody>\n",
       "</table>\n",
       "</div>"
      ],
      "text/plain": [
       "      site_no        lat       long\n",
       "0    33670001  36.735303 -76.011602\n",
       "105  33670002  36.903520 -76.095700\n",
       "210  33670003  36.852003 -76.288563\n",
       "302  33670004  36.692700 -75.926380\n",
       "407  33670005  36.731694 -75.984772\n",
       "512  33670006  36.709480 -75.988400\n",
       "604  33670007  36.581990 -76.039840\n",
       "709  33670008  36.856380 -76.290740\n",
       "746  33670009  36.721170 -76.033590"
      ]
     },
     "execution_count": 7,
     "metadata": {},
     "output_type": "execute_result"
    }
   ],
   "source": [
    "# The Greenstream Virginia Beach stations\n",
    "df.loc[df.usgs =='GSVB'][['site_no','lat', 'long']].drop_duplicates()"
   ]
  },
  {
   "cell_type": "code",
   "execution_count": 28,
   "metadata": {},
   "outputs": [],
   "source": [
    "# The Greenstream Virginia Beach stations\n",
    "df2 = df.loc[df.usgs =='GSVB'][['lat', 'long']].drop_duplicates()\n",
    "df2_names = df.loc[df.usgs =='GSVB'][['site_no']].drop_duplicates()"
   ]
  },
  {
   "cell_type": "code",
   "execution_count": 9,
   "metadata": {},
   "outputs": [
    {
     "data": {
      "text/plain": [
       "[(36.735303, -76.011602),\n",
       " (36.90352, -76.0957),\n",
       " (36.8520027, -76.28856309999999),\n",
       " (36.6927, -75.92638000000001),\n",
       " (36.731694, -75.98477199999999),\n",
       " (36.70948, -75.9884),\n",
       " (36.581990000000005, -76.03984),\n",
       " (36.85638, -76.29074),\n",
       " (36.72117, -76.03359)]"
      ]
     },
     "execution_count": 9,
     "metadata": {},
     "output_type": "execute_result"
    }
   ],
   "source": [
    "# generate a list of tuples, from a dataframe\n",
    "[tuple(x) for x in df2.values]"
   ]
  },
  {
   "cell_type": "code",
   "execution_count": 26,
   "metadata": {},
   "outputs": [
    {
     "data": {
      "text/plain": [
       "['[204293125]',\n",
       " '[204295505]',\n",
       " '[204297575]',\n",
       " '[204288721]',\n",
       " '[204300267]',\n",
       " '[204291317]',\n",
       " '[2043155]',\n",
       " '[204288539]',\n",
       " '[2042928]']"
      ]
     },
     "execution_count": 26,
     "metadata": {},
     "output_type": "execute_result"
    }
   ],
   "source": [
    "usgs_names = [np.array2string(x) for x in df1_names.values]\n",
    "usgs_names"
   ]
  },
  {
   "cell_type": "code",
   "execution_count": 29,
   "metadata": {},
   "outputs": [
    {
     "data": {
      "text/plain": [
       "['[33670001]',\n",
       " '[33670002]',\n",
       " '[33670003]',\n",
       " '[33670004]',\n",
       " '[33670005]',\n",
       " '[33670006]',\n",
       " '[33670007]',\n",
       " '[33670008]',\n",
       " '[33670009]']"
      ]
     },
     "execution_count": 29,
     "metadata": {},
     "output_type": "execute_result"
    }
   ],
   "source": [
    "gsvb_names = [np.array2string(x) for x in df2_names.values]\n",
    "gsvb_names"
   ]
  },
  {
   "cell_type": "code",
   "execution_count": 31,
   "metadata": {},
   "outputs": [
    {
     "data": {
      "application/vnd.jupyter.widget-view+json": {
       "model_id": "b031c97556e94ab8be52161015f264a7",
       "version_major": 2,
       "version_minor": 0
      },
      "text/plain": [
       "Figure(layout=FigureLayout(height='420px'))"
      ]
     },
     "metadata": {},
     "output_type": "display_data"
    }
   ],
   "source": [
    "fig = gmaps.figure()\n",
    "\n",
    "usgs_locations = [tuple(x) for x in df1.values]\n",
    "gsvb_locations = [tuple(x) for x in df2.values]\n",
    "\n",
    "\n",
    "#fig = gmaps.figure(center=(36.0, -76.0), zoom_level=20.0)\n",
    "\n",
    "\n",
    "#fig = gmaps.figure(layout={\n",
    "#        'width': '100px',\n",
    "#        'height': '600px',\n",
    "#        'padding': '3px',\n",
    "#        'border': '1px solid black'\n",
    "#})\n",
    "\n",
    "\n",
    "\n",
    "# orig\n",
    "#fig = gmaps.figure(layout={\n",
    "#        'width': '400px',\n",
    "#        'height': '600px',\n",
    "#        'padding': '3px',\n",
    "#        'border': '1px solid black'\n",
    "#})\n",
    "\n",
    "\n",
    "\n",
    "# give ablitly to turn on satelite\n",
    "fig = gmaps.figure(map_type='HYBRID')\n",
    "\n",
    "# show usgs stations as blue dots\n",
    "usgs_stations_layer = gmaps.symbol_layer(\n",
    "    usgs_locations, fill_color=\"blue\", stroke_color=\"blue\", scale=2,\n",
    "    hover_text=usgs_names\n",
    ")\n",
    "# show GSVB stations as green dots\n",
    "gsvb_stations_layer = gmaps.symbol_layer(\n",
    "    gsvb_locations, fill_color=\"green\", stroke_color=\"green\", scale=2,\n",
    "    hover_text=gsvb_names\n",
    ")\n",
    "\n",
    "fig = gmaps.figure()\n",
    "fig.add_layer(usgs_stations_layer)\n",
    "fig.add_layer(gsvb_stations_layer)\n",
    "\n",
    "\n",
    "fig"
   ]
  },
  {
   "cell_type": "code",
   "execution_count": null,
   "metadata": {},
   "outputs": [],
   "source": []
  },
  {
   "cell_type": "code",
   "execution_count": null,
   "metadata": {},
   "outputs": [],
   "source": []
  },
  {
   "cell_type": "code",
   "execution_count": null,
   "metadata": {},
   "outputs": [],
   "source": []
  }
 ],
 "metadata": {
  "kernelspec": {
   "display_name": "Python 3",
   "language": "python",
   "name": "python3"
  },
  "language_info": {
   "codemirror_mode": {
    "name": "ipython",
    "version": 3
   },
   "file_extension": ".py",
   "mimetype": "text/x-python",
   "name": "python",
   "nbconvert_exporter": "python",
   "pygments_lexer": "ipython3",
   "version": "3.7.3"
  }
 },
 "nbformat": 4,
 "nbformat_minor": 2
}
